{
 "cells": [
  {
   "cell_type": "code",
   "execution_count": 1,
   "id": "ac692b48-34cd-4313-b2b9-e180afcfa987",
   "metadata": {},
   "outputs": [
    {
     "name": "stdout",
     "output_type": "stream",
     "text": [
      "1\n",
      "2\n",
      "3\n",
      "4\n",
      "5\n",
      "6\n",
      "7\n",
      "8\n",
      "9\n",
      "10\n"
     ]
    }
   ],
   "source": [
    "#Write a Python program to print numbers from 1 to 10 using a for loop.\n",
    "\n",
    "for num in range(1, 11):\n",
    "    print(num)"
   ]
  },
  {
   "cell_type": "code",
   "execution_count": 4,
   "id": "30e49ebf-f0ce-4289-800e-a9fb84827f4d",
   "metadata": {},
   "outputs": [
    {
     "name": "stdout",
     "output_type": "stream",
     "text": [
      "apple\n",
      "banana\n",
      "cherry\n",
      "0\n",
      "1\n",
      "2\n",
      "3\n",
      "4\n"
     ]
    }
   ],
   "source": [
    "#Explain the difference between a for loop and a while loop in Python.\n",
    "\n",
    "'''In Python, both for loops and while loops are used for iteration, \n",
    "but they have different structures and are used in different scenarios.\n",
    "A for loop is used when you know the number of times you want to iterate over a block of code.'''\n",
    "\n",
    "fruits = [\"apple\", \"banana\", \"cherry\"]\n",
    "for fruit in fruits:\n",
    "    print(fruit)\n",
    "    \n",
    "'''A while loop is used when you want to execute a block of code repeatedly as long as a condition is true.'''\n",
    "\n",
    "count = 0\n",
    "while count < 5:\n",
    "    print(count)\n",
    "    count += 1"
   ]
  },
  {
   "cell_type": "code",
   "execution_count": 5,
   "id": "761ea2c3-5477-4c4d-ad8a-3bb25d2cae6d",
   "metadata": {},
   "outputs": [
    {
     "name": "stdout",
     "output_type": "stream",
     "text": [
      "The sum of all numbers from 1 to 100 is: 5050\n"
     ]
    }
   ],
   "source": [
    "#Write a Python program to calculate the sum of all numbers from 1 to 100 using a for loop.\n",
    "\n",
    "total = 0\n",
    "for num in range(1, 101):\n",
    "    total += num\n",
    "\n",
    "print(\"The sum of all numbers from 1 to 100 is:\", total)"
   ]
  },
  {
   "cell_type": "code",
   "execution_count": 6,
   "id": "b083527e-61af-41d4-a3d7-19bfe747bc15",
   "metadata": {},
   "outputs": [
    {
     "name": "stdout",
     "output_type": "stream",
     "text": [
      "1\n",
      "2\n",
      "3\n",
      "4\n",
      "5\n"
     ]
    }
   ],
   "source": [
    "#How do you iterate through a list using a for loop in Python?\n",
    "\n",
    "my_list = [1, 2, 3, 4, 5]\n",
    "\n",
    "for item in my_list:\n",
    "    print(item)"
   ]
  },
  {
   "cell_type": "code",
   "execution_count": 7,
   "id": "1c83b109-1bf7-4a84-a67c-3bd500fc58ba",
   "metadata": {},
   "outputs": [
    {
     "name": "stdout",
     "output_type": "stream",
     "text": [
      "The product of all elements in the list is: 720\n"
     ]
    }
   ],
   "source": [
    "#Write a Python program to find the product of all elements in a list using a for loop.\n",
    "\n",
    "my_list = [2, 3, 4, 5, 6]\n",
    "\n",
    "product = 1\n",
    "for num in my_list:\n",
    "    product *= num\n",
    "\n",
    "print(\"The product of all elements in the list is:\", product)"
   ]
  },
  {
   "cell_type": "code",
   "execution_count": 8,
   "id": "66f34cd8-9e40-43b5-a578-0d8ab798b6da",
   "metadata": {},
   "outputs": [
    {
     "name": "stdout",
     "output_type": "stream",
     "text": [
      "2\n",
      "4\n",
      "6\n",
      "8\n",
      "10\n",
      "12\n",
      "14\n",
      "16\n",
      "18\n",
      "20\n"
     ]
    }
   ],
   "source": [
    "#Create a Python program that prints all even numbers from 1 to 20 using a for loop.\n",
    "\n",
    "for num in range(2, 21, 2):\n",
    "    print(num)"
   ]
  },
  {
   "cell_type": "code",
   "execution_count": 9,
   "id": "b0d742ee-af13-4849-ab05-959906eba80a",
   "metadata": {},
   "outputs": [
    {
     "name": "stdout",
     "output_type": "stream",
     "text": [
      "Factorial of 5 is: 120\n"
     ]
    }
   ],
   "source": [
    "#Write a Python program that calculates the factorial of a number using a for loop.\n",
    "\n",
    "def factorial(n):\n",
    "    result = 1\n",
    "    for i in range(1, n + 1):\n",
    "        result *= i\n",
    "    return result\n",
    "\n",
    "# Example: calculating factorial of 5\n",
    "number = 5\n",
    "print(\"Factorial of\", number, \"is:\", factorial(number))"
   ]
  },
  {
   "cell_type": "code",
   "execution_count": 10,
   "id": "1934e256-2866-4ea2-8d0f-a838efc4f521",
   "metadata": {},
   "outputs": [
    {
     "name": "stdout",
     "output_type": "stream",
     "text": [
      "H\n",
      "e\n",
      "l\n",
      "l\n",
      "o\n",
      ",\n",
      " \n",
      "W\n",
      "o\n",
      "r\n",
      "l\n",
      "d\n",
      "!\n"
     ]
    }
   ],
   "source": [
    "#How can you iterate through the characters of a string using a for loop in Python?\n",
    "\n",
    "my_string = \"Hello, World!\"\n",
    "\n",
    "for char in my_string:\n",
    "    print(char)"
   ]
  },
  {
   "cell_type": "code",
   "execution_count": 11,
   "id": "7c934d46-9abd-47d2-a3b3-b6b7ff01ed92",
   "metadata": {},
   "outputs": [
    {
     "name": "stdout",
     "output_type": "stream",
     "text": [
      "The largest number in the list is: 20\n"
     ]
    }
   ],
   "source": [
    "#Write a Python program to find the largest number in a list using a for loop.\n",
    "\n",
    "def find_largest(numbers):\n",
    "    largest = numbers[0]  # Assume the first number is the largest\n",
    "    for num in numbers:\n",
    "        if num > largest:\n",
    "            largest = num\n",
    "    return largest\n",
    "\n",
    "# Example usage:\n",
    "my_list = [10, 4, 7, 20, 15, 3]\n",
    "print(\"The largest number in the list is:\", find_largest(my_list))"
   ]
  },
  {
   "cell_type": "code",
   "execution_count": 12,
   "id": "34449fe8-09f4-4d3b-81fb-cc0aa4a421f1",
   "metadata": {},
   "outputs": [
    {
     "name": "stdout",
     "output_type": "stream",
     "text": [
      "Fibonacci sequence up to limit 10 :\n",
      "0 1 1 2 3 5 8 13 21 34 "
     ]
    }
   ],
   "source": [
    "#Create a Python program that prints the Fibonacci sequence up to a specified limit using a for loop.\n",
    "\n",
    "def fibonacci(limit):\n",
    "    # Initialize the first two numbers of the sequence\n",
    "    a, b = 0, 1\n",
    "\n",
    "    # Print the first two numbers\n",
    "    print(a, end=\" \")\n",
    "    print(b, end=\" \")\n",
    "\n",
    "    # Iterate to generate the rest of the sequence\n",
    "    for _ in range(2, limit):\n",
    "        # Calculate the next Fibonacci number\n",
    "        next_num = a + b\n",
    "        # Print the next Fibonacci number\n",
    "        print(next_num, end=\" \")\n",
    "        # Update the values of 'a' and 'b' for the next iteration\n",
    "        a, b = b, next_num\n",
    "\n",
    "# Example usage: Print Fibonacci sequence up to limit 10\n",
    "limit = 10\n",
    "print(\"Fibonacci sequence up to limit\", limit, \":\")\n",
    "fibonacci(limit)"
   ]
  },
  {
   "cell_type": "code",
   "execution_count": 13,
   "id": "5ce4ff37-0df7-4f20-b174-dd28e219dd2b",
   "metadata": {},
   "outputs": [
    {
     "name": "stdout",
     "output_type": "stream",
     "text": [
      "Number of vowels in the string: 3\n"
     ]
    }
   ],
   "source": [
    "#Write a Python program to count the number of vowels in a given string using a for loop.\n",
    "\n",
    "def count_vowels(input_string):\n",
    "    vowels = \"aeiouAEIOU\"  # Define a string containing all vowels\n",
    "    count = 0  # Initialize a counter for vowels\n",
    "\n",
    "    # Iterate through each character in the input string\n",
    "    for char in input_string:\n",
    "        # Check if the character is a vowel\n",
    "        if char in vowels:\n",
    "            count += 1  # Increment the counter if the character is a vowel\n",
    "\n",
    "    return count\n",
    "\n",
    "# Example usage:\n",
    "input_string = \"Hello, World!\"\n",
    "print(\"Number of vowels in the string:\", count_vowels(input_string))"
   ]
  },
  {
   "cell_type": "code",
   "execution_count": 14,
   "id": "aabc0ea1-c472-47e3-97e7-3512dc3c30fe",
   "metadata": {},
   "outputs": [
    {
     "name": "stdin",
     "output_type": "stream",
     "text": [
      "Enter a number:  50\n"
     ]
    },
    {
     "name": "stdout",
     "output_type": "stream",
     "text": [
      "Multiplication table for 50:\n",
      "50 x 1 = 50\n",
      "50 x 2 = 100\n",
      "50 x 3 = 150\n",
      "50 x 4 = 200\n",
      "50 x 5 = 250\n",
      "50 x 6 = 300\n",
      "50 x 7 = 350\n",
      "50 x 8 = 400\n",
      "50 x 9 = 450\n",
      "50 x 10 = 500\n"
     ]
    }
   ],
   "source": [
    "#Create a Python program that generates a multiplication table for a given number using a for loop.\n",
    "\n",
    "def multiplication_table(number):\n",
    "    print(f\"Multiplication table for {number}:\")\n",
    "    for i in range(1, 11):\n",
    "        result = number * i\n",
    "        print(f\"{number} x {i} = {result}\")\n",
    "\n",
    "# Example usage:\n",
    "input_number = int(input(\"Enter a number: \"))\n",
    "multiplication_table(input_number)"
   ]
  },
  {
   "cell_type": "code",
   "execution_count": 15,
   "id": "dc7a7af3-313e-499d-807b-fda6b4c2eeb4",
   "metadata": {},
   "outputs": [
    {
     "name": "stdout",
     "output_type": "stream",
     "text": [
      "Original list: [1, 2, 3, 4, 5]\n",
      "Reversed list: [5, 4, 3, 2, 1]\n"
     ]
    }
   ],
   "source": [
    "#Write a Python program to reverse a list using a for loop.\n",
    "\n",
    "def reverse_list(input_list):\n",
    "    reversed_list = []\n",
    "    # Iterate over the input list in reverse order\n",
    "    for i in range(len(input_list) - 1, -1, -1):\n",
    "        reversed_list.append(input_list[i])\n",
    "    return reversed_list\n",
    "\n",
    "# Example usage:\n",
    "original_list = [1, 2, 3, 4, 5]\n",
    "print(\"Original list:\", original_list)\n",
    "reversed_result = reverse_list(original_list)\n",
    "print(\"Reversed list:\", reversed_result)"
   ]
  },
  {
   "cell_type": "code",
   "execution_count": 16,
   "id": "cdd3bb19-13a3-477a-98b2-70047a8bea44",
   "metadata": {},
   "outputs": [
    {
     "name": "stdout",
     "output_type": "stream",
     "text": [
      "Common elements between list1 and list2: [4, 5]\n"
     ]
    }
   ],
   "source": [
    "#Write a Python program to find the common elements between two lists using a for loop.\n",
    "\n",
    "def find_common_elements(list1, list2):\n",
    "    common_elements = []\n",
    "    for item1 in list1:\n",
    "        for item2 in list2:\n",
    "            if item1 == item2:\n",
    "                common_elements.append(item1)\n",
    "                break  # Once a common element is found, no need to continue inner loop\n",
    "    return common_elements\n",
    "\n",
    "# Example usage:\n",
    "list1 = [1, 2, 3, 4, 5]\n",
    "list2 = [4, 5, 6, 7, 8]\n",
    "print(\"Common elements between list1 and list2:\", find_common_elements(list1, list2))"
   ]
  },
  {
   "cell_type": "code",
   "execution_count": 17,
   "id": "e6b083da-967c-47b4-9bb9-ccee14b85aa3",
   "metadata": {},
   "outputs": [
    {
     "name": "stdout",
     "output_type": "stream",
     "text": [
      "Key: a - Value: 1\n",
      "Key: b - Value: 2\n",
      "Key: c - Value: 3\n"
     ]
    }
   ],
   "source": [
    "#Explain how to use a for loop to iterate through the keys and values of a dictionary in Python.\n",
    "\n",
    "my_dict = {'a': 1, 'b': 2, 'c': 3}\n",
    "\n",
    "# Iterate through keys and values\n",
    "for key, value in my_dict.items():\n",
    "    print(\"Key:\", key, \"- Value:\", value)"
   ]
  },
  {
   "cell_type": "code",
   "execution_count": 18,
   "id": "79c9469a-0c50-4e12-bee9-52eec49b03d6",
   "metadata": {},
   "outputs": [
    {
     "name": "stdout",
     "output_type": "stream",
     "text": [
      "The GCD of 24 and 36 is: 12\n"
     ]
    }
   ],
   "source": [
    "#Write a Python program to find the GCD (Greatest Common Divisor) of two numbers using a for loop.\n",
    "\n",
    "def gcd(a, b):\n",
    "    # Find the minimum of two numbers\n",
    "    min_num = min(a, b)\n",
    "    gcd_result = 1  # Initialize GCD result to 1\n",
    "    \n",
    "    # Iterate from 1 to the minimum of the two numbers\n",
    "    for i in range(1, min_num + 1):\n",
    "        # Check if both numbers are divisible by the current iteration number\n",
    "        if a % i == 0 and b % i == 0:\n",
    "            gcd_result = i  # Update GCD result if the current number is a common divisor\n",
    "    \n",
    "    return gcd_result\n",
    "\n",
    "# Example usage:\n",
    "num1 = 24\n",
    "num2 = 36\n",
    "print(\"The GCD of\", num1, \"and\", num2, \"is:\", gcd(num1, num2))"
   ]
  },
  {
   "cell_type": "code",
   "execution_count": 19,
   "id": "0626ad91-a51d-4555-bedc-a3cff750aba9",
   "metadata": {},
   "outputs": [
    {
     "name": "stdout",
     "output_type": "stream",
     "text": [
      "Is the string a palindrome? True\n"
     ]
    }
   ],
   "source": [
    "#Create a Python program that checks if a string is a palindrome using a for loop.\n",
    "\n",
    "def is_palindrome(input_string):\n",
    "    # Convert the string to lowercase to handle case-insensitive palindromes\n",
    "    input_string = input_string.lower()\n",
    "    # Remove any non-alphanumeric characters from the string\n",
    "    input_string = ''.join(char for char in input_string if char.isalnum())\n",
    "\n",
    "    # Iterate through the string using a for loop\n",
    "    for i in range(len(input_string) // 2):\n",
    "        # Check if the characters at symmetric positions are equal\n",
    "        if input_string[i] != input_string[-i - 1]:\n",
    "            return False\n",
    "    return True\n",
    "\n",
    "# Example usage:\n",
    "input_string = \"A man, a plan, a canal, Panama\"\n",
    "print(\"Is the string a palindrome?\", is_palindrome(input_string))"
   ]
  },
  {
   "cell_type": "code",
   "execution_count": 20,
   "id": "7963ef10-16e6-49d6-9021-8368f5c412bf",
   "metadata": {},
   "outputs": [
    {
     "name": "stdout",
     "output_type": "stream",
     "text": [
      "Original list: [1, 2, 3, 2, 4, 5, 1, 3, 6]\n",
      "List with duplicates removed: [1, 2, 3, 4, 5, 6]\n"
     ]
    }
   ],
   "source": [
    "#Write a Python program to remove duplicates from a list using a for loop.\n",
    "\n",
    "def remove_duplicates(input_list):\n",
    "    unique_list = []\n",
    "    for item in input_list:\n",
    "        if item not in unique_list:\n",
    "            unique_list.append(item)\n",
    "    return unique_list\n",
    "\n",
    "# Example usage:\n",
    "my_list = [1, 2, 3, 2, 4, 5, 1, 3, 6]\n",
    "print(\"Original list:\", my_list)\n",
    "print(\"List with duplicates removed:\", remove_duplicates(my_list))"
   ]
  },
  {
   "cell_type": "code",
   "execution_count": 21,
   "id": "3daa3f43-ef82-4a9b-bee1-78392bd6b56e",
   "metadata": {},
   "outputs": [
    {
     "name": "stdout",
     "output_type": "stream",
     "text": [
      "Number of words in the sentence: 8\n"
     ]
    }
   ],
   "source": [
    "#Create a Python program that counts the number of words in a sentence using a for loop.\n",
    "\n",
    "def count_words(sentence):\n",
    "    word_count = 0\n",
    "    # Iterate through each character in the sentence\n",
    "    for char in sentence:\n",
    "        # If the current character is a space, it indicates the end of a word\n",
    "        if char == ' ':\n",
    "            word_count += 1\n",
    "    # Add 1 to count the last word (no space after it)\n",
    "    word_count += 1\n",
    "    return word_count\n",
    "\n",
    "# Example usage:\n",
    "input_sentence = \"This is a sample sentence to count words.\"\n",
    "print(\"Number of words in the sentence:\", count_words(input_sentence))"
   ]
  },
  {
   "cell_type": "code",
   "execution_count": 22,
   "id": "6a85d6db-6caa-4ef5-94fe-d7de9d77f10b",
   "metadata": {},
   "outputs": [
    {
     "name": "stdout",
     "output_type": "stream",
     "text": [
      "Sum of all odd numbers from 1 to 50: 625\n"
     ]
    }
   ],
   "source": [
    "#Write a Python program to find the sum of all odd numbers from 1 to 50 using a for loop.\n",
    "\n",
    "odd_sum = 0\n",
    "for num in range(1, 51, 2):\n",
    "    odd_sum += num\n",
    "\n",
    "print(\"Sum of all odd numbers from 1 to 50:\", odd_sum)"
   ]
  },
  {
   "cell_type": "code",
   "execution_count": 23,
   "id": "dfa8613d-eb31-4851-b5ae-f7b387e9c398",
   "metadata": {},
   "outputs": [
    {
     "name": "stdin",
     "output_type": "stream",
     "text": [
      "Enter a year:  2000\n"
     ]
    },
    {
     "name": "stdout",
     "output_type": "stream",
     "text": [
      "2000 is a leap year.\n"
     ]
    }
   ],
   "source": [
    "#Write a Python program that checks if a given year is a leap year using a for loop.\n",
    "\n",
    "def is_leap_year(year):\n",
    "    if (year % 4 == 0 and year % 100 != 0) or (year % 400 == 0):\n",
    "        return True\n",
    "    else:\n",
    "        return False\n",
    "\n",
    "# Example usage:\n",
    "input_year = int(input(\"Enter a year: \"))\n",
    "if is_leap_year(input_year):\n",
    "    print(input_year, \"is a leap year.\")\n",
    "else:\n",
    "    print(input_year, \"is not a leap year.\")"
   ]
  },
  {
   "cell_type": "code",
   "execution_count": 24,
   "id": "5635dbae-8fc5-473b-be79-7caf018e0f57",
   "metadata": {},
   "outputs": [
    {
     "name": "stdin",
     "output_type": "stream",
     "text": [
      "Enter a number:  256\n"
     ]
    },
    {
     "name": "stdout",
     "output_type": "stream",
     "text": [
      "Square root of 256.0 is: 16.0\n"
     ]
    }
   ],
   "source": [
    "#Create a Python program that calculates the square root of a number using a for loop.\n",
    "\n",
    "def square_root(number):\n",
    "    if number < 0:\n",
    "        return \"Square root is not defined for negative numbers\"\n",
    "    elif number == 0:\n",
    "        return 0\n",
    "\n",
    "    guess = number / 2  # Initial guess\n",
    "    for _ in range(20):  # Perform 20 iterations (adjust this as needed for more precision)\n",
    "        guess = (guess + number / guess) / 2  # Update guess using Heron's formula\n",
    "\n",
    "    return guess\n",
    "\n",
    "# Example usage:\n",
    "input_number = float(input(\"Enter a number: \"))\n",
    "print(\"Square root of\", input_number, \"is:\", square_root(input_number))"
   ]
  },
  {
   "cell_type": "code",
   "execution_count": 25,
   "id": "a1ce8a34-914d-410b-8569-bb4f1582ae23",
   "metadata": {},
   "outputs": [
    {
     "name": "stdout",
     "output_type": "stream",
     "text": [
      "The LCM of 12 and 15 is: 60\n"
     ]
    }
   ],
   "source": [
    "#Write a Python program to find the LCM (Least Common Multiple) of two numbers using a for loop.\n",
    "\n",
    "def gcd(a, b):\n",
    "    while b:\n",
    "        a, b = b, a % b\n",
    "    return a\n",
    "\n",
    "def lcm(a, b):\n",
    "    return (a * b) // gcd(a, b)\n",
    "\n",
    "# Example usage:\n",
    "num1 = 12\n",
    "num2 = 15\n",
    "print(\"The LCM of\", num1, \"and\", num2, \"is:\", lcm(num1, num2))"
   ]
  },
  {
   "cell_type": "code",
   "execution_count": 26,
   "id": "0bc9b747-c03d-4c61-9466-14c90a7fbba1",
   "metadata": {},
   "outputs": [],
   "source": [
    "#If else"
   ]
  },
  {
   "cell_type": "code",
   "execution_count": 27,
   "id": "2684837f-6508-4952-bc77-db576a75b794",
   "metadata": {},
   "outputs": [
    {
     "name": "stdin",
     "output_type": "stream",
     "text": [
      "Enter a number:  225\n"
     ]
    },
    {
     "name": "stdout",
     "output_type": "stream",
     "text": [
      "The number is positive.\n"
     ]
    }
   ],
   "source": [
    "#Write a Python program to check if a number is positive, negative, or zero using an if-else statement.\n",
    "\n",
    "def check_number(number):\n",
    "    if number > 0:\n",
    "        print(\"The number is positive.\")\n",
    "    elif number < 0:\n",
    "        print(\"The number is negative.\")\n",
    "    else:\n",
    "        print(\"The number is zero.\")\n",
    "\n",
    "# Example usage:\n",
    "input_number = float(input(\"Enter a number: \"))\n",
    "check_number(input_number)"
   ]
  },
  {
   "cell_type": "code",
   "execution_count": 28,
   "id": "facde965-7854-4585-95f6-bf0b4ece67ad",
   "metadata": {},
   "outputs": [
    {
     "name": "stdin",
     "output_type": "stream",
     "text": [
      "Enter a number:  45\n"
     ]
    },
    {
     "name": "stdout",
     "output_type": "stream",
     "text": [
      "The number is odd.\n"
     ]
    }
   ],
   "source": [
    "#Create a Python program that checks if a given number is even or odd using an if-else statement.\n",
    "\n",
    "def check_even_odd(number):\n",
    "    if number % 2 == 0:\n",
    "        print(\"The number is even.\")\n",
    "    else:\n",
    "        print(\"The number is odd.\")\n",
    "\n",
    "# Example usage:\n",
    "input_number = int(input(\"Enter a number: \"))\n",
    "check_even_odd(input_number)"
   ]
  },
  {
   "cell_type": "code",
   "execution_count": 29,
   "id": "de3f17ef-c50c-4352-b15b-e7aa7cfa447f",
   "metadata": {},
   "outputs": [
    {
     "name": "stdin",
     "output_type": "stream",
     "text": [
      "Enter a number:  45\n"
     ]
    },
    {
     "name": "stdout",
     "output_type": "stream",
     "text": [
      "The number is positive.\n",
      "The number is odd.\n"
     ]
    }
   ],
   "source": [
    "#How can you use nested if-else statements in Python, and provide an example?\n",
    "\n",
    "def check_number(number):\n",
    "    if number > 0:\n",
    "        print(\"The number is positive.\")\n",
    "        if number % 2 == 0:\n",
    "            print(\"The number is also even.\")\n",
    "        else:\n",
    "            print(\"The number is odd.\")\n",
    "    elif number < 0:\n",
    "        print(\"The number is negative.\")\n",
    "    else:\n",
    "        print(\"The number is zero.\")\n",
    "\n",
    "# Example usage:\n",
    "input_number = int(input(\"Enter a number: \"))\n",
    "check_number(input_number)"
   ]
  },
  {
   "cell_type": "code",
   "execution_count": 30,
   "id": "f2458d43-dd69-4ad9-a815-305132ae709b",
   "metadata": {},
   "outputs": [
    {
     "name": "stdin",
     "output_type": "stream",
     "text": [
      "Enter the first number:  45\n",
      "Enter the second number:  55\n",
      "Enter the third number:  86\n"
     ]
    },
    {
     "name": "stdout",
     "output_type": "stream",
     "text": [
      "The largest number among 45.0 , 55.0 , and 86.0 is: 86.0\n"
     ]
    }
   ],
   "source": [
    "#Write a Python program to determine the largest of three numbers using if-else.\n",
    "\n",
    "def find_largest(num1, num2, num3):\n",
    "    if num1 >= num2 and num1 >= num3:\n",
    "        largest = num1\n",
    "    elif num2 >= num1 and num2 >= num3:\n",
    "        largest = num2\n",
    "    else:\n",
    "        largest = num3\n",
    "    return largest\n",
    "\n",
    "# Example usage:\n",
    "number1 = float(input(\"Enter the first number: \"))\n",
    "number2 = float(input(\"Enter the second number: \"))\n",
    "number3 = float(input(\"Enter the third number: \"))\n",
    "\n",
    "largest_number = find_largest(number1, number2, number3)\n",
    "print(\"The largest number among\", number1, \",\", number2, \", and\", number3, \"is:\", largest_number)"
   ]
  },
  {
   "cell_type": "code",
   "execution_count": 31,
   "id": "1a4caa33-4559-4b65-af89-7d8450285b08",
   "metadata": {},
   "outputs": [
    {
     "name": "stdin",
     "output_type": "stream",
     "text": [
      "Enter a number:  555\n"
     ]
    },
    {
     "name": "stdout",
     "output_type": "stream",
     "text": [
      "The absolute value of 555.0 is: 555.0\n"
     ]
    }
   ],
   "source": [
    "#Write a Python program that calculates the absolute value of a number using if-else.\n",
    "\n",
    "def absolute_value(number):\n",
    "    if number >= 0:\n",
    "        return number\n",
    "    else:\n",
    "        return -number\n",
    "\n",
    "# Example usage:\n",
    "input_number = float(input(\"Enter a number: \"))\n",
    "print(\"The absolute value of\", input_number, \"is:\", absolute_value(input_number))"
   ]
  },
  {
   "cell_type": "code",
   "execution_count": 32,
   "id": "12ac5427-7574-41b5-9282-69c396ce9a86",
   "metadata": {},
   "outputs": [
    {
     "name": "stdin",
     "output_type": "stream",
     "text": [
      "Enter a character:  a\n"
     ]
    },
    {
     "name": "stdout",
     "output_type": "stream",
     "text": [
      "The character a is a vowel.\n"
     ]
    }
   ],
   "source": [
    "#Create a Python program that checks if a given character is a vowel or consonant using if-else.\n",
    "\n",
    "def check_vowel_consonant(character):\n",
    "    # Convert the character to lowercase to handle both uppercase and lowercase characters\n",
    "    character = character.lower()\n",
    "    \n",
    "    if character in 'aeiou':\n",
    "        print(\"The character\", character, \"is a vowel.\")\n",
    "    elif 'a' <= character <= 'z':\n",
    "        print(\"The character\", character, \"is a consonant.\")\n",
    "    else:\n",
    "        print(\"Invalid input: Please enter a valid alphabet.\")\n",
    "\n",
    "# Example usage:\n",
    "input_character = input(\"Enter a character: \")\n",
    "if len(input_character) == 1:\n",
    "    check_vowel_consonant(input_character)\n",
    "else:\n",
    "    print(\"Invalid input: Please enter a single character.\")"
   ]
  },
  {
   "cell_type": "code",
   "execution_count": 33,
   "id": "2d98d4ef-7cff-4cac-a7b6-8daf47efce38",
   "metadata": {},
   "outputs": [
    {
     "name": "stdin",
     "output_type": "stream",
     "text": [
      "Enter your age:  45\n"
     ]
    },
    {
     "name": "stdout",
     "output_type": "stream",
     "text": [
      "You are eligible to vote.\n"
     ]
    }
   ],
   "source": [
    "#Write a Python program to determine if a user is eligible to vote based on their age using if-else.\n",
    "\n",
    "def check_voting_eligibility(age):\n",
    "    if age >= 18:\n",
    "        print(\"You are eligible to vote.\")\n",
    "    else:\n",
    "        print(\"You are not eligible to vote yet.\")\n",
    "\n",
    "# Example usage:\n",
    "input_age = int(input(\"Enter your age: \"))\n",
    "check_voting_eligibility(input_age)"
   ]
  },
  {
   "cell_type": "code",
   "execution_count": 34,
   "id": "e21eb3b1-d06c-43d9-9a83-ca4c3772b882",
   "metadata": {},
   "outputs": [
    {
     "name": "stdin",
     "output_type": "stream",
     "text": [
      "Enter the purchase amount: $ 5000\n"
     ]
    },
    {
     "name": "stdout",
     "output_type": "stream",
     "text": [
      "Discount amount: 500.0\n"
     ]
    }
   ],
   "source": [
    "#Create a Python program that calculates the discount amount based on the purchase amount using if-else.\n",
    "\n",
    "def calculate_discount(purchase_amount):\n",
    "    if purchase_amount >= 1000:\n",
    "        discount_percent = 10\n",
    "    elif purchase_amount >= 500:\n",
    "        discount_percent = 5\n",
    "    else:\n",
    "        discount_percent = 0\n",
    "\n",
    "    discount_amount = (purchase_amount * discount_percent) / 100\n",
    "    return discount_amount\n",
    "\n",
    "# Example usage:\n",
    "input_amount = float(input(\"Enter the purchase amount: $\"))\n",
    "discount = calculate_discount(input_amount)\n",
    "print(\"Discount amount:\", discount)"
   ]
  },
  {
   "cell_type": "code",
   "execution_count": 36,
   "id": "1a035132-18d9-413b-bbda-51c16a98ab0b",
   "metadata": {},
   "outputs": [
    {
     "name": "stdin",
     "output_type": "stream",
     "text": [
      "Enter a number:  45\n",
      "Enter the lower bound of the range:  50\n",
      "Enter the upper bound of the range:  70\n"
     ]
    },
    {
     "name": "stdout",
     "output_type": "stream",
     "text": [
      "The number 45.0 is not within the specified range.\n"
     ]
    }
   ],
   "source": [
    "#Write a Python program to check if a number is within a specified range using if-else.\n",
    "\n",
    "def check_number_in_range(number, lower_bound, upper_bound):\n",
    "    if lower_bound <= number <= upper_bound:\n",
    "        print(\"The number\", number, \"is within the specified range.\")\n",
    "    else:\n",
    "        print(\"The number\", number, \"is not within the specified range.\")\n",
    "\n",
    "# Example usage:\n",
    "input_number = float(input(\"Enter a number: \"))\n",
    "lower_limit = float(input(\"Enter the lower bound of the range: \"))\n",
    "upper_limit = float(input(\"Enter the upper bound of the range: \"))\n",
    "\n",
    "check_number_in_range(input_number, lower_limit, upper_limit)"
   ]
  },
  {
   "cell_type": "code",
   "execution_count": 37,
   "id": "3c4ad322-88d7-4d15-aab7-baa1b35dd373",
   "metadata": {},
   "outputs": [
    {
     "name": "stdin",
     "output_type": "stream",
     "text": [
      "Enter the student's score:  55\n"
     ]
    },
    {
     "name": "stdout",
     "output_type": "stream",
     "text": [
      "The student's grade is: F\n"
     ]
    }
   ],
   "source": [
    "#Create a Python program that determines the grade of a student based on their score using if-else.\n",
    "\n",
    "def determine_grade(score):\n",
    "    if score >= 90:\n",
    "        grade = 'A'\n",
    "    elif score >= 80:\n",
    "        grade = 'B'\n",
    "    elif score >= 70:\n",
    "        grade = 'C'\n",
    "    elif score >= 60:\n",
    "        grade = 'D'\n",
    "    else:\n",
    "        grade = 'F'\n",
    "    return grade\n",
    "\n",
    "# Example usage:\n",
    "input_score = float(input(\"Enter the student's score: \"))\n",
    "print(\"The student's grade is:\", determine_grade(input_score))"
   ]
  },
  {
   "cell_type": "code",
   "execution_count": 38,
   "id": "7cc6e729-fc03-46db-b8fd-f49bec84be96",
   "metadata": {},
   "outputs": [
    {
     "name": "stdin",
     "output_type": "stream",
     "text": [
      "Enter a string:  gautam\n"
     ]
    },
    {
     "name": "stdout",
     "output_type": "stream",
     "text": [
      "The string is not empty.\n"
     ]
    }
   ],
   "source": [
    "#Write a Python program to check if a string is empty or not using if-else.\n",
    "\n",
    "def check_string_empty(input_string):\n",
    "    if input_string:\n",
    "        print(\"The string is not empty.\")\n",
    "    else:\n",
    "        print(\"The string is empty.\")\n",
    "\n",
    "# Example usage:\n",
    "input_string = input(\"Enter a string: \")\n",
    "check_string_empty(input_string)"
   ]
  },
  {
   "cell_type": "code",
   "execution_count": 39,
   "id": "00e0da3c-1d97-4e19-9293-076cbdd46020",
   "metadata": {},
   "outputs": [
    {
     "name": "stdin",
     "output_type": "stream",
     "text": [
      "Enter the length of the first side:  5\n",
      "Enter the length of the second side:  7\n",
      "Enter the length of the third side:  9\n"
     ]
    },
    {
     "name": "stdout",
     "output_type": "stream",
     "text": [
      "The triangle is: Scalene Triangle\n"
     ]
    }
   ],
   "source": [
    "'''Create a Python program that identifies the type of a triangle \n",
    "(e.g., equilateral, isosceles, or scalene) based on input values using if-else.'''\n",
    "\n",
    "\n",
    "def triangle_type(side1, side2, side3):\n",
    "    if side1 == side2 == side3:\n",
    "        return \"Equilateral Triangle\"\n",
    "    elif side1 == side2 or side1 == side3 or side2 == side3:\n",
    "        return \"Isosceles Triangle\"\n",
    "    else:\n",
    "        return \"Scalene Triangle\"\n",
    "\n",
    "# Example usage:\n",
    "input_side1 = float(input(\"Enter the length of the first side: \"))\n",
    "input_side2 = float(input(\"Enter the length of the second side: \"))\n",
    "input_side3 = float(input(\"Enter the length of the third side: \"))\n",
    "\n",
    "triangle = triangle_type(input_side1, input_side2, input_side3)\n",
    "print(\"The triangle is:\", triangle)"
   ]
  },
  {
   "cell_type": "code",
   "execution_count": 40,
   "id": "9f1d4fdd-6993-47aa-aa1f-5490ea947332",
   "metadata": {},
   "outputs": [
    {
     "name": "stdin",
     "output_type": "stream",
     "text": [
      "Enter a number (1-7) to determine the day of the week:  5\n"
     ]
    },
    {
     "name": "stdout",
     "output_type": "stream",
     "text": [
      "The day of the week is: Friday\n"
     ]
    }
   ],
   "source": [
    "#Write a Python program to determine the day of the week based on a user-provided number using if-else.\n",
    "\n",
    "def determine_day_of_week(day_number):\n",
    "    if day_number == 1:\n",
    "        return \"Monday\"\n",
    "    elif day_number == 2:\n",
    "        return \"Tuesday\"\n",
    "    elif day_number == 3:\n",
    "        return \"Wednesday\"\n",
    "    elif day_number == 4:\n",
    "        return \"Thursday\"\n",
    "    elif day_number == 5:\n",
    "        return \"Friday\"\n",
    "    elif day_number == 6:\n",
    "        return \"Saturday\"\n",
    "    elif day_number == 7:\n",
    "        return \"Sunday\"\n",
    "    else:\n",
    "        return \"Invalid day number\"\n",
    "\n",
    "# Example usage:\n",
    "input_day_number = int(input(\"Enter a number (1-7) to determine the day of the week: \"))\n",
    "print(\"The day of the week is:\", determine_day_of_week(input_day_number))"
   ]
  },
  {
   "cell_type": "code",
   "execution_count": 41,
   "id": "ced2fce2-49fc-4295-aa04-12a24efea7bc",
   "metadata": {},
   "outputs": [
    {
     "name": "stdin",
     "output_type": "stream",
     "text": [
      "Enter a year:  2000\n"
     ]
    },
    {
     "name": "stdout",
     "output_type": "stream",
     "text": [
      "2000 is a leap year.\n"
     ]
    }
   ],
   "source": [
    "#Create a Python program that checks if a given year is a leap year using both if-else and a function.\n",
    "\n",
    "def is_leap_year(year):\n",
    "    if (year % 4 == 0 and year % 100 != 0) or (year % 400 == 0):\n",
    "        return True\n",
    "    else:\n",
    "        return False\n",
    "\n",
    "# Example usage:\n",
    "input_year = int(input(\"Enter a year: \"))\n",
    "\n",
    "if is_leap_year(input_year):\n",
    "    print(input_year, \"is a leap year.\")\n",
    "else:\n",
    "    print(input_year, \"is not a leap year.\")"
   ]
  },
  {
   "cell_type": "code",
   "execution_count": 42,
   "id": "8527affc-2ccf-4ecc-b528-e0454ec9c9e3",
   "metadata": {},
   "outputs": [
    {
     "name": "stdout",
     "output_type": "stream",
     "text": [
      "Cannot divide by zero\n"
     ]
    }
   ],
   "source": [
    "#How do you use the \"assert\" statement in Python to add debugging checks within if-else blocks?\n",
    "\n",
    "def divide_numbers(dividend, divisor):\n",
    "    assert divisor != 0, \"Divisor cannot be zero\"\n",
    "    return dividend / divisor\n",
    "\n",
    "# Example usage:\n",
    "numerator = 10\n",
    "denominator = 0\n",
    "\n",
    "# Check if the denominator is zero before dividing\n",
    "if denominator != 0:\n",
    "    result = divide_numbers(numerator, denominator)\n",
    "    print(\"Result of division:\", result)\n",
    "else:\n",
    "    print(\"Cannot divide by zero\")"
   ]
  },
  {
   "cell_type": "code",
   "execution_count": 43,
   "id": "b163b758-86b9-40b9-b5e5-1f5287744983",
   "metadata": {},
   "outputs": [
    {
     "name": "stdin",
     "output_type": "stream",
     "text": [
      "Enter your age:  28\n"
     ]
    },
    {
     "name": "stdout",
     "output_type": "stream",
     "text": [
      "Sorry, you are not eligible for a senior citizen discount yet.\n"
     ]
    }
   ],
   "source": [
    "'''Create a Python program that determines the eligibility of a \n",
    "person for a senior citizen discount based on age using if-else.'''\n",
    "\n",
    "def check_senior_discount_eligibility(age):\n",
    "    if age >= 60:\n",
    "        print(\"Congratulations! You are eligible for a senior citizen discount.\")\n",
    "    else:\n",
    "        print(\"Sorry, you are not eligible for a senior citizen discount yet.\")\n",
    "\n",
    "# Example usage:\n",
    "input_age = int(input(\"Enter your age: \"))\n",
    "check_senior_discount_eligibility(input_age)"
   ]
  },
  {
   "cell_type": "code",
   "execution_count": 44,
   "id": "39dc4e91-d8da-48e4-aa16-d9574df18c74",
   "metadata": {},
   "outputs": [
    {
     "name": "stdin",
     "output_type": "stream",
     "text": [
      "Enter a character:  a\n"
     ]
    },
    {
     "name": "stdout",
     "output_type": "stream",
     "text": [
      "The character a is lowercase.\n"
     ]
    }
   ],
   "source": [
    "#Write a Python program to categorize a given character as uppercase, lowercase, or neither using if-else.\n",
    "\n",
    "def categorize_character(character):\n",
    "    if character.isupper():\n",
    "        print(\"The character\", character, \"is uppercase.\")\n",
    "    elif character.islower():\n",
    "        print(\"The character\", character, \"is lowercase.\")\n",
    "    else:\n",
    "        print(\"The character\", character, \"is neither uppercase nor lowercase.\")\n",
    "\n",
    "# Example usage:\n",
    "input_character = input(\"Enter a character: \")\n",
    "\n",
    "# Ensure that the input consists of a single character\n",
    "if len(input_character) == 1:\n",
    "    categorize_character(input_character)\n",
    "else:\n",
    "    print(\"Invalid input: Please enter a single character.\")"
   ]
  },
  {
   "cell_type": "code",
   "execution_count": 45,
   "id": "67ef0682-611e-4606-8e21-1e53f0ec6758",
   "metadata": {},
   "outputs": [
    {
     "name": "stdin",
     "output_type": "stream",
     "text": [
      "Enter the coefficient of x^2 (a):  5\n",
      "Enter the coefficient of x (b):  6\n",
      "Enter the constant term (c):  7\n"
     ]
    },
    {
     "name": "stdout",
     "output_type": "stream",
     "text": [
      "The roots of the quadratic equation are complex:\n",
      "Root 1: -0.6 + 1.0198039027185568 i\n",
      "Root 2: -0.6 - 1.0198039027185568 i\n"
     ]
    }
   ],
   "source": [
    "#Write a Python program to determine the roots of a quadratic equation using if-else.\n",
    "\n",
    "import math\n",
    "\n",
    "def quadratic_roots(a, b, c):\n",
    "    discriminant = b**2 - 4*a*c\n",
    "    \n",
    "    if discriminant > 0:\n",
    "        root1 = (-b + math.sqrt(discriminant)) / (2*a)\n",
    "        root2 = (-b - math.sqrt(discriminant)) / (2*a)\n",
    "        print(\"The roots of the quadratic equation are:\", root1, \"and\", root2)\n",
    "    elif discriminant == 0:\n",
    "        root = -b / (2*a)\n",
    "        print(\"The quadratic equation has a repeated root at:\", root)\n",
    "    else:\n",
    "        real_part = -b / (2*a)\n",
    "        imaginary_part = math.sqrt(abs(discriminant)) / (2*a)\n",
    "        print(\"The roots of the quadratic equation are complex:\")\n",
    "        print(\"Root 1:\", real_part, \"+\", imaginary_part, \"i\")\n",
    "        print(\"Root 2:\", real_part, \"-\", imaginary_part, \"i\")\n",
    "\n",
    "# Example usage:\n",
    "a = float(input(\"Enter the coefficient of x^2 (a): \"))\n",
    "b = float(input(\"Enter the coefficient of x (b): \"))\n",
    "c = float(input(\"Enter the constant term (c): \"))\n",
    "\n",
    "quadratic_roots(a, b, c)"
   ]
  },
  {
   "cell_type": "code",
   "execution_count": 46,
   "id": "424649db-7339-404b-8166-84ab0bc1f258",
   "metadata": {},
   "outputs": [
    {
     "name": "stdin",
     "output_type": "stream",
     "text": [
      "Enter a year:  2000\n"
     ]
    },
    {
     "name": "stdout",
     "output_type": "stream",
     "text": [
      "2000 is a century year.\n"
     ]
    }
   ],
   "source": [
    "#Create a Python program that checks if a given year is a century year or not using if-else.\n",
    "\n",
    "def is_century_year(year):\n",
    "    if year % 100 == 0:\n",
    "        print(year, \"is a century year.\")\n",
    "    else:\n",
    "        print(year, \"is not a century year.\")\n",
    "\n",
    "# Example usage:\n",
    "input_year = int(input(\"Enter a year: \"))\n",
    "is_century_year(input_year)"
   ]
  },
  {
   "cell_type": "code",
   "execution_count": 47,
   "id": "b1a9cb46-0571-494c-9a32-338f78abde8d",
   "metadata": {},
   "outputs": [
    {
     "name": "stdin",
     "output_type": "stream",
     "text": [
      "Enter a number:  200\n"
     ]
    },
    {
     "name": "stdout",
     "output_type": "stream",
     "text": [
      "200 is not a perfect square.\n"
     ]
    }
   ],
   "source": [
    "#Write a Python program to determine if a given number is a perfect square using if-else.\n",
    "\n",
    "def is_perfect_square(number):\n",
    "    square_root = number ** 0.5\n",
    "    if square_root.is_integer():\n",
    "        print(number, \"is a perfect square.\")\n",
    "    else:\n",
    "        print(number, \"is not a perfect square.\")\n",
    "\n",
    "# Example usage:\n",
    "input_number = int(input(\"Enter a number: \"))\n",
    "is_perfect_square(input_number)"
   ]
  },
  {
   "cell_type": "code",
   "execution_count": 49,
   "id": "aa3343dd-d074-4977-8d09-1d2cfbad4408",
   "metadata": {},
   "outputs": [
    {
     "name": "stdout",
     "output_type": "stream",
     "text": [
      "1\n",
      "2\n",
      "4\n",
      "5\n"
     ]
    },
    {
     "name": "stdin",
     "output_type": "stream",
     "text": [
      "Enter a number (or 'exit' to quit):  4\n"
     ]
    },
    {
     "name": "stdout",
     "output_type": "stream",
     "text": [
      "You entered: 4\n"
     ]
    },
    {
     "name": "stdin",
     "output_type": "stream",
     "text": [
      "Enter a number (or 'exit' to quit):  exit\n"
     ]
    },
    {
     "name": "stdout",
     "output_type": "stream",
     "text": [
      "Loop ended.\n"
     ]
    }
   ],
   "source": [
    "#Explain the purpose of the \"continue\" and \"break\" statements within if-else loops.\n",
    "'''The purpose of the continue statement is to skip the rest of the current \n",
    "iteration of a loop and proceed to the next iteration.'''\n",
    "\n",
    "for i in range(1, 6):\n",
    "    if i == 3:\n",
    "        continue\n",
    "    print(i)\n",
    "    \n",
    "\n",
    "#The purpose of the break statement is to terminate the loop it's contained within prematurely.\n",
    "\n",
    "while True:\n",
    "    user_input = input(\"Enter a number (or 'exit' to quit): \")\n",
    "    if user_input == 'exit':\n",
    "        break\n",
    "    print(\"You entered:\", user_input)\n",
    "print(\"Loop ended.\")"
   ]
  },
  {
   "cell_type": "code",
   "execution_count": 50,
   "id": "388702e7-6e9a-4138-91f1-86bb317419ed",
   "metadata": {},
   "outputs": [
    {
     "name": "stdin",
     "output_type": "stream",
     "text": [
      "Enter your weight in kilograms:  60\n",
      "Enter your height in meters:  8\n"
     ]
    },
    {
     "name": "stdout",
     "output_type": "stream",
     "text": [
      "Your BMI is: 0.9375\n",
      "You are categorized as: Underweight\n"
     ]
    }
   ],
   "source": [
    "'''Create a Python program that calculates the BMI (Body Mass Index) \n",
    "of a person based on their weight and height using if-else.'''\n",
    "\n",
    "def calculate_bmi(weight, height):\n",
    "    bmi = weight / (height ** 2)\n",
    "    return bmi\n",
    "\n",
    "def interpret_bmi(bmi):\n",
    "    if bmi < 18.5:\n",
    "        return \"Underweight\"\n",
    "    elif 18.5 <= bmi < 25:\n",
    "        return \"Normal weight\"\n",
    "    elif 25 <= bmi < 30:\n",
    "        return \"Overweight\"\n",
    "    else:\n",
    "        return \"Obese\"\n",
    "\n",
    "# Example usage:\n",
    "weight = float(input(\"Enter your weight in kilograms: \"))\n",
    "height = float(input(\"Enter your height in meters: \"))\n",
    "\n",
    "bmi = calculate_bmi(weight, height)\n",
    "print(\"Your BMI is:\", bmi)\n",
    "print(\"You are categorized as:\", interpret_bmi(bmi))"
   ]
  },
  {
   "cell_type": "code",
   "execution_count": 51,
   "id": "ae8834e9-ebc7-467f-a300-0c0e6502d079",
   "metadata": {},
   "outputs": [
    {
     "name": "stdout",
     "output_type": "stream",
     "text": [
      "Filtered even numbers: [2, 4, 6, 8, 10]\n"
     ]
    }
   ],
   "source": [
    "#How can you use the \"filter()\" function with if-else statements to filter elements from a list?\n",
    "\n",
    "# Define a list of numbers\n",
    "numbers = [1, 2, 3, 4, 5, 6, 7, 8, 9, 10]\n",
    "\n",
    "# Define a function to filter even numbers using if-else\n",
    "def filter_even(number):\n",
    "    if number % 2 == 0:\n",
    "        return True  # Keep the number if it's even\n",
    "    else:\n",
    "        return False  # Discard the number if it's odd\n",
    "\n",
    "# Use filter() with the filter_even() function\n",
    "filtered_numbers = filter(filter_even, numbers)\n",
    "\n",
    "# Convert the filtered result to a list\n",
    "filtered_numbers_list = list(filtered_numbers)\n",
    "\n",
    "# Print the filtered list\n",
    "print(\"Filtered even numbers:\", filtered_numbers_list)"
   ]
  },
  {
   "cell_type": "code",
   "execution_count": 52,
   "id": "2f33045a-19b1-4cb1-83ca-d617408dd253",
   "metadata": {},
   "outputs": [
    {
     "name": "stdin",
     "output_type": "stream",
     "text": [
      "Enter a number:  52\n"
     ]
    },
    {
     "name": "stdout",
     "output_type": "stream",
     "text": [
      "52 is not a prime number.\n"
     ]
    }
   ],
   "source": [
    "#Write a Python program to determine if a given number is prime or not using if-else.\n",
    "\n",
    "def is_prime(number):\n",
    "    if number <= 1:\n",
    "        return False  # Numbers less than or equal to 1 are not prime\n",
    "    \n",
    "    for i in range(2, int(number**0.5) + 1):\n",
    "        if number % i == 0:\n",
    "            return False  # If the number is divisible by any integer in the range, it's not prime\n",
    "    \n",
    "    return True  # If the number is not divisible by any integer in the range, it's prime\n",
    "\n",
    "# Example usage:\n",
    "input_number = int(input(\"Enter a number: \"))\n",
    "\n",
    "if is_prime(input_number):\n",
    "    print(input_number, \"is a prime number.\")\n",
    "else:\n",
    "    print(input_number, \"is not a prime number.\")"
   ]
  },
  {
   "cell_type": "code",
   "execution_count": 53,
   "id": "85989112-8b9d-4c6d-8a05-722c9baa8920",
   "metadata": {},
   "outputs": [],
   "source": [
    "#Map :-"
   ]
  },
  {
   "cell_type": "code",
   "execution_count": 54,
   "id": "dd779c1a-f74e-4fa1-942f-ad258d32b56f",
   "metadata": {},
   "outputs": [
    {
     "name": "stdout",
     "output_type": "stream",
     "text": [
      "Doubled numbers: [2, 4, 6, 8, 10]\n"
     ]
    }
   ],
   "source": [
    "'''Explain the purpose of the `map()` function in Python and \n",
    "provide an example of how it can be used to apply a function to each element of an iterable.'''\n",
    "\n",
    "# Define a function to double a number\n",
    "def double_number(x):\n",
    "    return x * 2\n",
    "\n",
    "# Define a list of numbers\n",
    "numbers = [1, 2, 3, 4, 5]\n",
    "\n",
    "# Use map() to double each number in the list\n",
    "doubled_numbers = map(double_number, numbers)\n",
    "\n",
    "# Convert the result to a list\n",
    "doubled_numbers_list = list(doubled_numbers)\n",
    "\n",
    "# Print the doubled numbers\n",
    "print(\"Doubled numbers:\", doubled_numbers_list)"
   ]
  },
  {
   "cell_type": "code",
   "execution_count": 55,
   "id": "51ee9a62-7c05-4938-9a2b-eac4fe0cb0ae",
   "metadata": {},
   "outputs": [
    {
     "name": "stdout",
     "output_type": "stream",
     "text": [
      "Squared numbers: [1, 4, 9, 16, 25]\n"
     ]
    }
   ],
   "source": [
    "#Write a Python program that uses the `map()` function to square each element of a list of numbers.\n",
    "\n",
    "# Define a list of numbers\n",
    "numbers = [1, 2, 3, 4, 5]\n",
    "\n",
    "# Define a function to square a number\n",
    "def square_number(x):\n",
    "    return x ** 2\n",
    "\n",
    "# Use map() to square each number in the list\n",
    "squared_numbers = map(square_number, numbers)\n",
    "\n",
    "# Convert the result to a list\n",
    "squared_numbers_list = list(squared_numbers)\n",
    "\n",
    "# Print the squared numbers\n",
    "print(\"Squared numbers:\", squared_numbers_list)"
   ]
  },
  {
   "cell_type": "code",
   "execution_count": 57,
   "id": "0af662b4-69e6-4f02-b894-fba1593f1918",
   "metadata": {},
   "outputs": [
    {
     "data": {
      "text/plain": [
       "'The map() function and list comprehensions are both used to perform operations on elements of iterables in Python, but they have some differences in terms of syntax and usage:\\n\\nSyntax:\\n\\nmap() function: The map() function takes two arguments—a function and an iterable—and applies the function to each element of the iterable, returning an iterator that yields the results. The syntax is map(function, iterable).\\nList comprehension: List comprehensions provide a concise way to create lists by applying an expression to each element of an iterable. The syntax is [expression for item in iterable].\\nReturn value:\\n\\nmap() function: The map() function returns an iterator containing the results of applying the function to each element of the iterable. If you need a list, you need to convert the iterator to a list using the list() function.\\nList comprehension: List comprehensions return a new list containing the results of applying the expression to each element of the iterable.\\nReadability and expressiveness:\\n\\nmap() function: The map() function may be less readable than list comprehensions, especially for complex transformations, because it requires defining a separate function. However, it can be more expressive when the transformation logic is complex or requires reusability of the function.\\nList comprehension: List comprehensions are often more readable and concise, especially for simple transformations or when the logic can be expressed directly in the expression without the need for a separate function.\\nPerformance:\\n\\nIn terms of performance, both map() and list comprehensions are generally efficient and have similar performance characteristics. The choice between them is more about readability and expressiveness rather than performance.\\nWhen to choose one over the other depends on the specific use case and personal preference:\\n\\nUse map() when:\\nYou have an existing function that you want to apply to each element of an iterable.\\nThe transformation logic is complex or requires reusability of the function.\\nUse list comprehension when:\\nThe transformation logic is simple and can be expressed directly in the expression.\\nYou want a more concise and readable syntax for creating a new list based on an existing iterable.\\nIn general, list comprehensions are more commonly used in Python due to their concise syntax and readability, but map() can be useful in situations where you already have a function defined or when the transformation logic is more complex.'"
      ]
     },
     "execution_count": 57,
     "metadata": {},
     "output_type": "execute_result"
    }
   ],
   "source": [
    "'''How does the `map()` function differ from a list comprehension \n",
    "in Python, and when would you choose one over the other?'''\n",
    "\n",
    "'''The map() function and list comprehensions are both used to perform operations on elements of iterables in Python, but they have some differences in terms of syntax and usage:\n",
    "\n",
    "Syntax:\n",
    "\n",
    "map() function: The map() function takes two arguments—a function and an iterable—and applies the function to each element of the iterable, returning an iterator that yields the results. The syntax is map(function, iterable).\n",
    "List comprehension: List comprehensions provide a concise way to create lists by applying an expression to each element of an iterable. The syntax is [expression for item in iterable].\n",
    "Return value:\n",
    "\n",
    "map() function: The map() function returns an iterator containing the results of applying the function to each element of the iterable. If you need a list, you need to convert the iterator to a list using the list() function.\n",
    "List comprehension: List comprehensions return a new list containing the results of applying the expression to each element of the iterable.\n",
    "Readability and expressiveness:\n",
    "\n",
    "map() function: The map() function may be less readable than list comprehensions, especially for complex transformations, because it requires defining a separate function. However, it can be more expressive when the transformation logic is complex or requires reusability of the function.\n",
    "List comprehension: List comprehensions are often more readable and concise, especially for simple transformations or when the logic can be expressed directly in the expression without the need for a separate function.\n",
    "Performance:\n",
    "\n",
    "In terms of performance, both map() and list comprehensions are generally efficient and have similar performance characteristics. The choice between them is more about readability and expressiveness rather than performance.\n",
    "When to choose one over the other depends on the specific use case and personal preference:\n",
    "\n",
    "Use map() when:\n",
    "You have an existing function that you want to apply to each element of an iterable.\n",
    "The transformation logic is complex or requires reusability of the function.\n",
    "Use list comprehension when:\n",
    "The transformation logic is simple and can be expressed directly in the expression.\n",
    "You want a more concise and readable syntax for creating a new list based on an existing iterable.\n",
    "In general, list comprehensions are more commonly used in Python due to their concise syntax and readability, but map() can be useful in situations where you already have a function defined or when the transformation logic is more complex.'''"
   ]
  },
  {
   "cell_type": "code",
   "execution_count": 58,
   "id": "5cde1950-e03a-449a-a255-6ad8cd9bf725",
   "metadata": {},
   "outputs": [
    {
     "name": "stdout",
     "output_type": "stream",
     "text": [
      "Uppercased names: ['ALICE', 'BOB', 'CHARLIE', 'DAVID']\n"
     ]
    }
   ],
   "source": [
    "#Create a Python program that uses the `map()` function to convert a list of names to uppercase.\n",
    "\n",
    "# Define a list of names\n",
    "names = ['Alice', 'Bob', 'Charlie', 'David']\n",
    "\n",
    "# Use map() to convert each name to uppercase\n",
    "uppercased_names = map(str.upper, names)\n",
    "\n",
    "# Convert the result to a list\n",
    "uppercased_names_list = list(uppercased_names)\n",
    "\n",
    "# Print the uppercase names\n",
    "print(\"Uppercased names:\", uppercased_names_list)"
   ]
  },
  {
   "cell_type": "code",
   "execution_count": 59,
   "id": "b7f55fce-fbff-44e5-b3cf-30a397b321b3",
   "metadata": {},
   "outputs": [
    {
     "name": "stdout",
     "output_type": "stream",
     "text": [
      "Lengths of each word: [5, 5, 6, 11, 2, 7]\n"
     ]
    }
   ],
   "source": [
    "#Write a Python program that uses the `map()` function to calculate the length of each word in a list of strings.\n",
    "\n",
    "# Define a list of strings\n",
    "strings = ['Hello', 'world', 'Python', 'programming', 'is', 'awesome']\n",
    "\n",
    "# Use map() to calculate the length of each word\n",
    "word_lengths = map(len, strings)\n",
    "\n",
    "# Convert the result to a list\n",
    "word_lengths_list = list(word_lengths)\n",
    "\n",
    "# Print the lengths of each word\n",
    "print(\"Lengths of each word:\", word_lengths_list)"
   ]
  },
  {
   "cell_type": "code",
   "execution_count": 60,
   "id": "e22844a4-ca60-4c2c-80ba-c25bf05eda85",
   "metadata": {},
   "outputs": [
    {
     "name": "stdout",
     "output_type": "stream",
     "text": [
      "Result of adding corresponding elements: [7, 9, 11, 13, 15]\n"
     ]
    }
   ],
   "source": [
    "'''How can you use the `map()` function to apply a custom function to \n",
    "elements of multiple lists simultaneously in Python?'''\n",
    "\n",
    "# Define a custom function to add corresponding elements of two lists\n",
    "def add_elements(x, y):\n",
    "    return x + y\n",
    "\n",
    "# Define two lists of numbers\n",
    "list1 = [1, 2, 3, 4, 5]\n",
    "list2 = [6, 7, 8, 9, 10]\n",
    "\n",
    "# Use map() to apply the custom function to corresponding elements of the lists\n",
    "result = map(add_elements, list1, list2)\n",
    "\n",
    "# Convert the result to a list\n",
    "result_list = list(result)\n",
    "\n",
    "# Print the result\n",
    "print(\"Result of adding corresponding elements:\", result_list)"
   ]
  },
  {
   "cell_type": "code",
   "execution_count": 61,
   "id": "1009b819-112e-42ca-a9e0-2e233688f8d2",
   "metadata": {},
   "outputs": [
    {
     "name": "stdout",
     "output_type": "stream",
     "text": [
      "Temperatures in Fahrenheit: [32.0, 50.0, 68.0, 86.0, 104.0]\n"
     ]
    }
   ],
   "source": [
    "#Create a Python program that uses `map()` to convert a list of temperatures from Celsius to Fahrenheit.\n",
    "\n",
    "# Define a function to convert Celsius to Fahrenheit\n",
    "def celsius_to_fahrenheit(celsius):\n",
    "    return (celsius * 9/5) + 32\n",
    "\n",
    "# Define a list of temperatures in Celsius\n",
    "temperatures_celsius = [0, 10, 20, 30, 40]\n",
    "\n",
    "# Use map() to convert each temperature from Celsius to Fahrenheit\n",
    "temperatures_fahrenheit = map(celsius_to_fahrenheit, temperatures_celsius)\n",
    "\n",
    "# Convert the result to a list\n",
    "temperatures_fahrenheit_list = list(temperatures_fahrenheit)\n",
    "\n",
    "# Print the temperatures in Fahrenheit\n",
    "print(\"Temperatures in Fahrenheit:\", temperatures_fahrenheit_list)"
   ]
  },
  {
   "cell_type": "code",
   "execution_count": 62,
   "id": "53cd4a0d-e86d-4b87-ab82-abc452259a16",
   "metadata": {},
   "outputs": [
    {
     "name": "stdout",
     "output_type": "stream",
     "text": [
      "Rounded numbers: [3, 3, 2, 5, 1]\n"
     ]
    }
   ],
   "source": [
    "'''Write a Python program that uses the `map()` function to round \n",
    "each element of a list of floating-point numbers to the nearest integer.'''\n",
    "\n",
    "# Define a list of floating-point numbers\n",
    "numbers = [3.14, 2.718, 1.618, 4.669, 0.577]\n",
    "\n",
    "# Use map() to round each number to the nearest integer\n",
    "rounded_numbers = map(round, numbers)\n",
    "\n",
    "# Convert the result to a list\n",
    "rounded_numbers_list = list(rounded_numbers)\n",
    "\n",
    "# Print the rounded numbers\n",
    "print(\"Rounded numbers:\", rounded_numbers_list)"
   ]
  },
  {
   "cell_type": "code",
   "execution_count": 63,
   "id": "d570f043-ae5e-4635-889f-4081f3c0f7f8",
   "metadata": {},
   "outputs": [],
   "source": [
    "#Reduce :-"
   ]
  },
  {
   "cell_type": "code",
   "execution_count": 64,
   "id": "93cc2e47-23be-4a8a-aec7-aa3be208be7e",
   "metadata": {},
   "outputs": [
    {
     "name": "stdout",
     "output_type": "stream",
     "text": [
      "Total sum: 15\n"
     ]
    }
   ],
   "source": [
    "'''What is the `reduce()` function in Python, and what module \n",
    "should you import to use it? Provide an example of its basic usage.'''\n",
    "\n",
    "#functools.reduce(function, iterable[, initializer])\n",
    "\n",
    "\n",
    "from functools import reduce\n",
    "\n",
    "# Define a function to calculate the sum of two numbers\n",
    "def add(x, y):\n",
    "    return x + y\n",
    "\n",
    "# Define a list of numbers\n",
    "numbers = [1, 2, 3, 4, 5]\n",
    "\n",
    "# Use reduce() to calculate the sum of the numbers\n",
    "total_sum = reduce(add, numbers)\n",
    "\n",
    "# Print the total sum\n",
    "print(\"Total sum:\", total_sum)"
   ]
  },
  {
   "cell_type": "code",
   "execution_count": 65,
   "id": "aedca4fd-c752-41b2-992c-f993317caf32",
   "metadata": {},
   "outputs": [
    {
     "name": "stdout",
     "output_type": "stream",
     "text": [
      "Product of all numbers: 120\n"
     ]
    }
   ],
   "source": [
    "#Write a Python program that uses the `reduce()` function to find the product of all elements in a list.\n",
    "\n",
    "from functools import reduce\n",
    "\n",
    "# Define a list of numbers\n",
    "numbers = [1, 2, 3, 4, 5]\n",
    "\n",
    "# Define a function to calculate the product of two numbers\n",
    "def multiply(x, y):\n",
    "    return x * y\n",
    "\n",
    "# Use reduce() to calculate the product of the numbers\n",
    "product = reduce(multiply, numbers)\n",
    "\n",
    "# Print the product\n",
    "print(\"Product of all numbers:\", product)"
   ]
  },
  {
   "cell_type": "code",
   "execution_count": 66,
   "id": "603167ce-0ccc-46e0-afbd-7e918ad0c773",
   "metadata": {},
   "outputs": [
    {
     "name": "stdout",
     "output_type": "stream",
     "text": [
      "Maximum element in the list: 30\n"
     ]
    }
   ],
   "source": [
    "#Create a Python program that uses `reduce()` to find the maximum element in a list of numbers.\n",
    "\n",
    "from functools import reduce\n",
    "\n",
    "# Define a list of numbers\n",
    "numbers = [10, 5, 25, 15, 30, 20]\n",
    "\n",
    "# Use reduce() to find the maximum element\n",
    "max_number = reduce(max, numbers)\n",
    "\n",
    "# Print the maximum element\n",
    "print(\"Maximum element in the list:\", max_number)"
   ]
  },
  {
   "cell_type": "code",
   "execution_count": 67,
   "id": "55d5e990-b5e7-46d1-9404-b11c98f0de5f",
   "metadata": {},
   "outputs": [
    {
     "name": "stdout",
     "output_type": "stream",
     "text": [
      "Concatenated string: Hello world!\n"
     ]
    }
   ],
   "source": [
    "#How can you use the `reduce()` function to concatenate a list of strings into a single string?\n",
    "\n",
    "from functools import reduce\n",
    "\n",
    "# Define a list of strings\n",
    "strings = ['Hello', ' ', 'world', '!']\n",
    "\n",
    "# Use reduce() to concatenate the strings into a single string\n",
    "concatenated_string = reduce(lambda x, y: x + y, strings)\n",
    "\n",
    "# Print the concatenated string\n",
    "print(\"Concatenated string:\", concatenated_string)"
   ]
  },
  {
   "cell_type": "code",
   "execution_count": 68,
   "id": "5573cbda-4d2d-4948-a849-ee0bb3b9f997",
   "metadata": {},
   "outputs": [
    {
     "name": "stdin",
     "output_type": "stream",
     "text": [
      "Enter a number to calculate its factorial:  55\n"
     ]
    },
    {
     "name": "stdout",
     "output_type": "stream",
     "text": [
      "Factorial of 55 is: 12696403353658275925965100847566516959580321051449436762275840000000000000\n"
     ]
    }
   ],
   "source": [
    "#Write a Python program that calculates the factorial of a number using the `reduce()` function.\n",
    "\n",
    "from functools import reduce\n",
    "\n",
    "# Define a function to calculate the factorial of a number\n",
    "def factorial(n):\n",
    "    return reduce(lambda x, y: x * y, range(1, n + 1), 1)\n",
    "\n",
    "# Get user input for the number\n",
    "n = int(input(\"Enter a number to calculate its factorial: \"))\n",
    "\n",
    "# Calculate the factorial using the reduce() function\n",
    "result = factorial(n)\n",
    "\n",
    "# Print the factorial\n",
    "print(\"Factorial of\", n, \"is:\", result)"
   ]
  },
  {
   "cell_type": "code",
   "execution_count": 69,
   "id": "ca579e0c-7e33-41df-82a0-c2fed9bdeca5",
   "metadata": {},
   "outputs": [
    {
     "name": "stdout",
     "output_type": "stream",
     "text": [
      "GCD of the numbers: 6\n"
     ]
    }
   ],
   "source": [
    "#Create a Python program that uses `reduce()` to find the GCD (Greatest Common Divisor) of a list of numbers.\n",
    "\n",
    "from functools import reduce\n",
    "import math\n",
    "\n",
    "# Define a function to compute the GCD of two numbers\n",
    "def gcd(x, y):\n",
    "    return math.gcd(x, y)\n",
    "\n",
    "# Define a list of numbers\n",
    "numbers = [12, 18, 24, 36, 48]\n",
    "\n",
    "# Use reduce() to find the GCD of the list of numbers\n",
    "gcd_result = reduce(gcd, numbers)\n",
    "\n",
    "# Print the GCD\n",
    "print(\"GCD of the numbers:\", gcd_result)"
   ]
  },
  {
   "cell_type": "code",
   "execution_count": 70,
   "id": "429514b8-f912-45a4-b507-6c86da1008da",
   "metadata": {},
   "outputs": [
    {
     "name": "stdin",
     "output_type": "stream",
     "text": [
      "Enter a number:  25\n"
     ]
    },
    {
     "name": "stdout",
     "output_type": "stream",
     "text": [
      "Sum of digits of 25 is: 7\n"
     ]
    }
   ],
   "source": [
    "#Write a Python program that uses the `reduce()` function to find the sum of the digits of a given number.\n",
    "\n",
    "from functools import reduce\n",
    "\n",
    "# Define a function to compute the sum of digits of a number\n",
    "def sum_of_digits(n):\n",
    "    return reduce(lambda x, y: int(x) + int(y), str(n))\n",
    "\n",
    "# Get user input for the number\n",
    "number = int(input(\"Enter a number: \"))\n",
    "\n",
    "# Calculate the sum of digits using the reduce() function\n",
    "sum_of_digits_result = sum_of_digits(number)\n",
    "\n",
    "# Print the sum of digits\n",
    "print(\"Sum of digits of\", number, \"is:\", sum_of_digits_result)"
   ]
  },
  {
   "cell_type": "code",
   "execution_count": 71,
   "id": "22e843a5-0e7f-49b8-9354-071029fcc9b1",
   "metadata": {},
   "outputs": [],
   "source": [
    "#Filter :-"
   ]
  },
  {
   "cell_type": "code",
   "execution_count": 72,
   "id": "c92b4f74-9a6a-4940-94c9-c44ed780ba79",
   "metadata": {},
   "outputs": [
    {
     "name": "stdout",
     "output_type": "stream",
     "text": [
      "Even numbers: [2, 4, 6, 8, 10]\n"
     ]
    }
   ],
   "source": [
    "'''Explain the purpose of the `filter()` function in Python \n",
    "and provide an example of how it can be used to filter elements from an iterable.'''\n",
    "\n",
    "#filter(function, iterable)\n",
    "\n",
    "# Define a list of numbers\n",
    "numbers = [1, 2, 3, 4, 5, 6, 7, 8, 9, 10]\n",
    "\n",
    "# Use filter() to filter even numbers from the list\n",
    "even_numbers = filter(lambda x: x % 2 == 0, numbers)\n",
    "\n",
    "# Convert the result to a list\n",
    "even_numbers_list = list(even_numbers)\n",
    "\n",
    "# Print the filtered even numbers\n",
    "print(\"Even numbers:\", even_numbers_list)"
   ]
  },
  {
   "cell_type": "code",
   "execution_count": 73,
   "id": "55acf0e8-6343-4d6a-b266-145b87597997",
   "metadata": {},
   "outputs": [
    {
     "name": "stdout",
     "output_type": "stream",
     "text": [
      "Even numbers: [2, 4, 6, 8, 10]\n"
     ]
    }
   ],
   "source": [
    "#Write a Python program that uses the `filter()` function to select even numbers from a list of integers.\n",
    "\n",
    "# Define a list of numbers\n",
    "numbers = [1, 2, 3, 4, 5, 6, 7, 8, 9, 10]\n",
    "\n",
    "# Use filter() to select even numbers from the list\n",
    "even_numbers = filter(lambda x: x % 2 == 0, numbers)\n",
    "\n",
    "# Convert the result to a list\n",
    "even_numbers_list = list(even_numbers)\n",
    "\n",
    "# Print the filtered even numbers\n",
    "print(\"Even numbers:\", even_numbers_list)"
   ]
  },
  {
   "cell_type": "code",
   "execution_count": 74,
   "id": "3d8bed62-4e34-4870-9ce7-fed146cb0507",
   "metadata": {},
   "outputs": [
    {
     "name": "stdout",
     "output_type": "stream",
     "text": [
      "Names starting with letter D: ['David']\n"
     ]
    }
   ],
   "source": [
    "'''Create a Python program that uses the `filter()` function to select \n",
    "names that start with a specific letter from a list of strings.'''\n",
    "\n",
    "# Define a list of names\n",
    "names = ['Alice', 'Bob', 'Charlie', 'David', 'Eve', 'Frank', 'Grace']\n",
    "\n",
    "# Specify the letter to filter names\n",
    "starting_letter = 'D'\n",
    "\n",
    "# Use filter() to select names starting with the specified letter\n",
    "filtered_names = filter(lambda name: name.startswith(starting_letter), names)\n",
    "\n",
    "# Convert the result to a list\n",
    "filtered_names_list = list(filtered_names)\n",
    "\n",
    "# Print the filtered names\n",
    "print(\"Names starting with letter\", starting_letter + \":\", filtered_names_list)"
   ]
  },
  {
   "cell_type": "code",
   "execution_count": 75,
   "id": "732624df-c41f-4c82-a85a-e3964753b502",
   "metadata": {},
   "outputs": [
    {
     "name": "stdout",
     "output_type": "stream",
     "text": [
      "Prime numbers: [2, 3, 5, 7]\n"
     ]
    }
   ],
   "source": [
    "#Write a Python program that uses the `filter()` function to select prime numbers from a list of integers.\n",
    "\n",
    "# Define a function to check if a number is prime\n",
    "def is_prime(n):\n",
    "    if n <= 1:\n",
    "        return False\n",
    "    for i in range(2, int(n**0.5) + 1):\n",
    "        if n % i == 0:\n",
    "            return False\n",
    "    return True\n",
    "\n",
    "# Define a list of numbers\n",
    "numbers = [1, 2, 3, 4, 5, 6, 7, 8, 9, 10]\n",
    "\n",
    "# Use filter() to select prime numbers from the list\n",
    "prime_numbers = filter(is_prime, numbers)\n",
    "\n",
    "# Convert the result to a list\n",
    "prime_numbers_list = list(prime_numbers)\n",
    "\n",
    "# Print the prime numbers\n",
    "print(\"Prime numbers:\", prime_numbers_list)"
   ]
  },
  {
   "cell_type": "code",
   "execution_count": 76,
   "id": "7d7e9240-8136-4902-8332-a265fc11bdde",
   "metadata": {},
   "outputs": [
    {
     "name": "stdout",
     "output_type": "stream",
     "text": [
      "Filtered list: [1, 3, 5, 7, 9]\n"
     ]
    }
   ],
   "source": [
    "#How can you use the `filter()` function to remove None values from a list in Python?\n",
    "\n",
    "# Define a list with some None values\n",
    "values = [1, None, 3, None, 5, None, 7, None, 9]\n",
    "\n",
    "# Use filter() to remove None values from the list\n",
    "filtered_values = filter(lambda x: x is not None, values)\n",
    "\n",
    "# Convert the result to a list\n",
    "filtered_values_list = list(filtered_values)\n",
    "\n",
    "# Print the filtered list\n",
    "print(\"Filtered list:\", filtered_values_list)"
   ]
  },
  {
   "cell_type": "code",
   "execution_count": 77,
   "id": "d1184008-e276-43a2-bfa2-d5bf58be08f7",
   "metadata": {},
   "outputs": [
    {
     "name": "stdout",
     "output_type": "stream",
     "text": [
      "Words longer than 5 characters: ['banana', 'orange', 'pineapple']\n"
     ]
    }
   ],
   "source": [
    "'''Create a Python program that uses `filter()` to select words \n",
    "longer than a certain length from a list of strings.'''\n",
    "\n",
    "# Define a list of strings\n",
    "words = ['apple', 'banana', 'orange', 'kiwi', 'grape', 'pineapple']\n",
    "\n",
    "# Specify the minimum length of words to filter\n",
    "min_length = 5\n",
    "\n",
    "# Use filter() to select words longer than the specified length\n",
    "filtered_words = filter(lambda word: len(word) > min_length, words)\n",
    "\n",
    "# Convert the result to a list\n",
    "filtered_words_list = list(filtered_words)\n",
    "\n",
    "# Print the filtered words\n",
    "print(\"Words longer than\", min_length, \"characters:\", filtered_words_list)\n"
   ]
  },
  {
   "cell_type": "code",
   "execution_count": 78,
   "id": "423c60d1-fc83-4c83-b8d2-f175e9535412",
   "metadata": {},
   "outputs": [
    {
     "name": "stdout",
     "output_type": "stream",
     "text": [
      "Values greater than 10 : [12, 23, 15, 17, 25]\n"
     ]
    }
   ],
   "source": [
    "'''Write a Python program that uses the `filter()` function to select \n",
    "elements greater than a specified threshold from a list of values.'''\n",
    "\n",
    "# Define a list of values\n",
    "values = [12, 5, 23, 8, 15, 17, 6, 9, 25]\n",
    "\n",
    "# Specify the threshold value\n",
    "threshold = 10\n",
    "\n",
    "# Use filter() to select elements greater than the specified threshold\n",
    "filtered_values = filter(lambda x: x > threshold, values)\n",
    "\n",
    "# Convert the result to a list\n",
    "filtered_values_list = list(filtered_values)\n",
    "\n",
    "# Print the filtered values\n",
    "print(\"Values greater than\", threshold, \":\", filtered_values_list)"
   ]
  },
  {
   "cell_type": "code",
   "execution_count": 79,
   "id": "220c45cd-dc43-4406-a512-29a16b80fdff",
   "metadata": {},
   "outputs": [],
   "source": [
    "#Recursion:-"
   ]
  },
  {
   "cell_type": "code",
   "execution_count": 82,
   "id": "03a68e6d-5ecc-4911-93eb-d8f70bb6b4ba",
   "metadata": {},
   "outputs": [],
   "source": [
    "#Explain the concept of recursion in Python. How does it differ from iteration?\n",
    "\n",
    "'''Recursion:\n",
    "\n",
    "Recursion is a programming technique in which a function calls itself directly or indirectly to solve a problem.\n",
    "In recursion, a function solves a problem by breaking it down into smaller instances of the same problem. Each smaller instance is solved recursively until a base case is reached, at which point the function returns a result.\n",
    "Recursion is characterized by having one or more base cases that define the terminating condition, preventing infinite recursion.\n",
    "Example: The classic example of recursion is the factorial function. The factorial of a non-negative integer n (denoted as n!) is the product of all positive integers less than or equal to n. The factorial function can be defined recursively as follows:'''\n",
    "\n",
    "def factorial(n):\n",
    "    if n == 0:\n",
    "        return 1\n",
    "    else:\n",
    "        return n * factorial(n - 1)\n",
    "\n",
    "    \n",
    "'''Iteration:\n",
    "\n",
    "Iteration is the process of repeatedly executing a set of instructions using loops (e.g., for loop, while loop).\n",
    "In iteration, a loop structure is used to repeatedly execute a block of code until a specified condition is met or for a predetermined number of times.\n",
    "Iteration typically involves maintaining state variables, such as loop counters, to control the execution flow.\n",
    "Example: The factorial function can also be implemented iteratively using a loop:'''\n",
    "\n",
    "def factorial(n):\n",
    "    result = 1\n",
    "    for i in range(1, n + 1):\n",
    "        result *= i\n",
    "    return result"
   ]
  },
  {
   "cell_type": "code",
   "execution_count": 84,
   "id": "aebb2db7-5c5f-4d49-aed6-2c28c0b00110",
   "metadata": {},
   "outputs": [
    {
     "name": "stdin",
     "output_type": "stream",
     "text": [
      "Enter a number to calculate its factorial:  25\n"
     ]
    },
    {
     "name": "stdout",
     "output_type": "stream",
     "text": [
      "Factorial of 25 is: 15511210043330985984000000\n"
     ]
    }
   ],
   "source": [
    "#Write a Python program to calculate the factorial of a number using recursion.\n",
    "\n",
    "def factorial(n):\n",
    "    # Base case: if n is 0 or 1, return 1\n",
    "    if n == 0 or n == 1:\n",
    "        return 1\n",
    "    # Recursive case: return n * factorial(n-1)\n",
    "    else:\n",
    "        return n * factorial(n - 1)\n",
    "\n",
    "# Get user input for the number\n",
    "num = int(input(\"Enter a number to calculate its factorial: \"))\n",
    "\n",
    "# Calculate the factorial using recursion\n",
    "result = factorial(num)\n",
    "\n",
    "# Print the factorial\n",
    "print(\"Factorial of\", num, \"is:\", result)"
   ]
  },
  {
   "cell_type": "code",
   "execution_count": 85,
   "id": "48e3f3fb-4dbe-4135-9e42-0460f411d3c6",
   "metadata": {},
   "outputs": [
    {
     "name": "stdin",
     "output_type": "stream",
     "text": [
      "Enter the value of n to find the nth Fibonacci number:  20\n"
     ]
    },
    {
     "name": "stdout",
     "output_type": "stream",
     "text": [
      "The 20 th Fibonacci number is: 6765\n"
     ]
    }
   ],
   "source": [
    "#Create a recursive Python function to find the nth Fibonacci number.\n",
    "\n",
    "def fibonacci(n):\n",
    "    # Base cases: if n is 0 or 1, return n\n",
    "    if n == 0:\n",
    "        return 0\n",
    "    elif n == 1:\n",
    "        return 1\n",
    "    # Recursive case: return fibonacci(n-1) + fibonacci(n-2)\n",
    "    else:\n",
    "        return fibonacci(n - 1) + fibonacci(n - 2)\n",
    "\n",
    "# Get user input for the value of n\n",
    "num = int(input(\"Enter the value of n to find the nth Fibonacci number: \"))\n",
    "\n",
    "# Call the fibonacci function to find the nth Fibonacci number\n",
    "result = fibonacci(num)\n",
    "\n",
    "# Print the nth Fibonacci number\n",
    "print(\"The\", num, \"th Fibonacci number is:\", result)"
   ]
  },
  {
   "cell_type": "code",
   "execution_count": 86,
   "id": "64e4f1cd-d0e1-4b6c-a69a-24d40d825003",
   "metadata": {},
   "outputs": [
    {
     "name": "stdout",
     "output_type": "stream",
     "text": [
      "Sum of elements in the list: 15\n"
     ]
    }
   ],
   "source": [
    "#Write a recursive Python function to calculate the sum of all elements in a list.\n",
    "\n",
    "def list_sum(lst):\n",
    "    # Base case: if the list is empty, return 0\n",
    "    if len(lst) == 0:\n",
    "        return 0\n",
    "    # Recursive case: return the first element of the list plus the sum of the rest of the list\n",
    "    else:\n",
    "        return lst[0] + list_sum(lst[1:])\n",
    "\n",
    "# Test the function\n",
    "my_list = [1, 2, 3, 4, 5]\n",
    "result = list_sum(my_list)\n",
    "print(\"Sum of elements in the list:\", result)"
   ]
  },
  {
   "cell_type": "code",
   "execution_count": 87,
   "id": "1b06afec-21a3-4519-85a5-ba6010ff2c25",
   "metadata": {},
   "outputs": [
    {
     "data": {
      "text/plain": [
       "'To prevent a recursive function from running indefinitely and causing a stack overflow error, you can ensure that your recursive function has one or more base cases that will eventually terminate the recursion. Base cases are the stopping conditions that determine when the recursion should stop and prevent the function from making further recursive calls.\\n\\nHere are some strategies to prevent infinite recursion and avoid stack overflow errors:\\n\\nDefine Base Cases: Ensure that your recursive function has one or more base cases that cover all possible scenarios where the recursion should stop. Base cases should represent simple scenarios that can be solved directly without further recursion.\\n\\nEnsure Progress: Ensure that each recursive call moves the function closer to a base case. This ensures that the recursive function will eventually reach a base case and terminate.\\n\\nLimit Recursion Depth: You can set a maximum recursion depth by using iterative approaches or by limiting the number of recursive calls that can be made. This can be achieved by passing an additional parameter to the recursive function to track the current recursion depth or by using a global variable.\\n\\nCheck Input Validity: Ensure that the input parameters passed to the recursive function are valid. If the input parameters are not valid, return an appropriate value or raise an exception to prevent further recursion.\\n\\nTest Thoroughly: Test your recursive function with various inputs, including edge cases, to ensure that it behaves as expected and terminates correctly under all conditions.\\n\\nBy incorporating these strategies into your recursive function design, you can prevent infinite recursion and stack overflow errors, ensuring that your recursive functions execute correctly and efficiently.'"
      ]
     },
     "execution_count": 87,
     "metadata": {},
     "output_type": "execute_result"
    }
   ],
   "source": [
    "#How can you prevent a recursive function from running indefinitely, causing a stack overflow error?\n",
    "\n",
    "'''To prevent a recursive function from running indefinitely and causing a stack overflow error, you can ensure that your recursive function has one or more base cases that will eventually terminate the recursion. Base cases are the stopping conditions that determine when the recursion should stop and prevent the function from making further recursive calls.\n",
    "\n",
    "Here are some strategies to prevent infinite recursion and avoid stack overflow errors:\n",
    "\n",
    "Define Base Cases: Ensure that your recursive function has one or more base cases that cover all possible scenarios where the recursion should stop. Base cases should represent simple scenarios that can be solved directly without further recursion.\n",
    "\n",
    "Ensure Progress: Ensure that each recursive call moves the function closer to a base case. This ensures that the recursive function will eventually reach a base case and terminate.\n",
    "\n",
    "Limit Recursion Depth: You can set a maximum recursion depth by using iterative approaches or by limiting the number of recursive calls that can be made. This can be achieved by passing an additional parameter to the recursive function to track the current recursion depth or by using a global variable.\n",
    "\n",
    "Check Input Validity: Ensure that the input parameters passed to the recursive function are valid. If the input parameters are not valid, return an appropriate value or raise an exception to prevent further recursion.\n",
    "\n",
    "Test Thoroughly: Test your recursive function with various inputs, including edge cases, to ensure that it behaves as expected and terminates correctly under all conditions.\n",
    "\n",
    "By incorporating these strategies into your recursive function design, you can prevent infinite recursion and stack overflow errors, ensuring that your recursive functions execute correctly and efficiently.'''"
   ]
  },
  {
   "cell_type": "code",
   "execution_count": 88,
   "id": "f62a4520-0fd4-4e2a-a60a-b93a379af006",
   "metadata": {},
   "outputs": [
    {
     "name": "stdout",
     "output_type": "stream",
     "text": [
      "The GCD of 48 and 18 is: 6\n"
     ]
    }
   ],
   "source": [
    "'''Create a recursive Python function to find the greatest common divisor \n",
    "(GCD) of two numbers using the Euclidean algorithm.'''\n",
    "\n",
    "def gcd(a, b):\n",
    "    # Base case: if b is 0, return a (the GCD)\n",
    "    if b == 0:\n",
    "        return a\n",
    "    # Recursive case: call gcd recursively with b and the remainder of a divided by b\n",
    "    else:\n",
    "        return gcd(b, a % b)\n",
    "\n",
    "# Test the function\n",
    "num1 = 48\n",
    "num2 = 18\n",
    "result = gcd(num1, num2)\n",
    "print(\"The GCD of\", num1, \"and\", num2, \"is:\", result)"
   ]
  },
  {
   "cell_type": "code",
   "execution_count": 89,
   "id": "6b89d69f-0749-4081-a9b3-cead94a686a1",
   "metadata": {},
   "outputs": [
    {
     "name": "stdout",
     "output_type": "stream",
     "text": [
      "Original string: Hello, World!\n",
      "Reversed string: !dlroW ,olleH\n"
     ]
    }
   ],
   "source": [
    "#Write a recursive Python function to reverse a string.\n",
    "\n",
    "def reverse_string(s):\n",
    "    # Base case: if the string is empty or has length 1, return the string itself\n",
    "    if len(s) <= 1:\n",
    "        return s\n",
    "    # Recursive case: return the last character of the string concatenated with the reversed substring\n",
    "    else:\n",
    "        return s[-1] + reverse_string(s[:-1])\n",
    "\n",
    "# Test the function\n",
    "input_string = \"Hello, World!\"\n",
    "reversed_string = reverse_string(input_string)\n",
    "print(\"Original string:\", input_string)\n",
    "print(\"Reversed string:\", reversed_string)"
   ]
  },
  {
   "cell_type": "code",
   "execution_count": 90,
   "id": "dd75c7b5-9de2-4a3a-9cad-3d8d08963769",
   "metadata": {},
   "outputs": [
    {
     "name": "stdout",
     "output_type": "stream",
     "text": [
      "2^5 is: 32\n"
     ]
    }
   ],
   "source": [
    "#Create a recursive Python function to calculate the power of a number (x^n).\n",
    "\n",
    "def power(x, n):\n",
    "    # Base case: if n is 0, return 1 (x^0 is always 1)\n",
    "    if n == 0:\n",
    "        return 1\n",
    "    # Recursive case: return x multiplied by the result of power(x, n-1)\n",
    "    else:\n",
    "        return x * power(x, n - 1)\n",
    "\n",
    "# Test the function\n",
    "base = 2\n",
    "exponent = 5\n",
    "result = power(base, exponent)\n",
    "print(f\"{base}^{exponent} is:\", result)"
   ]
  },
  {
   "cell_type": "code",
   "execution_count": 91,
   "id": "b9f27ffd-3dcf-4862-b229-29b86e5663d8",
   "metadata": {},
   "outputs": [
    {
     "name": "stdout",
     "output_type": "stream",
     "text": [
      "Permutations of abc : ['abc', 'acb', 'bac', 'bca', 'cab', 'cba']\n"
     ]
    }
   ],
   "source": [
    "#Write a recursive Python function to find all permutations of a given string.\n",
    "\n",
    "def permutations(s):\n",
    "    # Base case: if the string has only one character, return it as a single-element list\n",
    "    if len(s) == 1:\n",
    "        return [s]\n",
    "\n",
    "    # Recursive case: find permutations of the substring without the first character\n",
    "    perms = []\n",
    "    for i in range(len(s)):\n",
    "        first_char = s[i]\n",
    "        rest_chars = s[:i] + s[i+1:]\n",
    "        rest_perms = permutations(rest_chars)\n",
    "        for perm in rest_perms:\n",
    "            perms.append(first_char + perm)\n",
    "\n",
    "    return perms\n",
    "\n",
    "# Test the function\n",
    "input_string = \"abc\"\n",
    "result = permutations(input_string)\n",
    "print(\"Permutations of\", input_string, \":\", result)"
   ]
  },
  {
   "cell_type": "code",
   "execution_count": 92,
   "id": "7f588930-0746-44a3-a39b-44957b2e3c7e",
   "metadata": {},
   "outputs": [
    {
     "name": "stdout",
     "output_type": "stream",
     "text": [
      "Is radar a palindrome? True\n",
      "Is hello a palindrome? False\n"
     ]
    }
   ],
   "source": [
    "#Write a recursive Python function to check if a string is a palindrome.\n",
    "\n",
    "def is_palindrome(s):\n",
    "    # Base case: if the string has 0 or 1 characters, it's a palindrome\n",
    "    if len(s) <= 1:\n",
    "        return True\n",
    "    # Recursive case: check if the first and last characters are the same,\n",
    "    # and recursively check the substring without those characters\n",
    "    else:\n",
    "        return s[0] == s[-1] and is_palindrome(s[1:-1])\n",
    "\n",
    "# Test the function\n",
    "test_string = \"radar\"\n",
    "print(\"Is\", test_string, \"a palindrome?\", is_palindrome(test_string))\n",
    "\n",
    "test_string = \"hello\"\n",
    "print(\"Is\", test_string, \"a palindrome?\", is_palindrome(test_string))"
   ]
  },
  {
   "cell_type": "code",
   "execution_count": 93,
   "id": "e80d0673-9d81-4898-bc7f-023853a47ba1",
   "metadata": {},
   "outputs": [
    {
     "name": "stdout",
     "output_type": "stream",
     "text": [
      "Combinations of ['a', 'b', 'c'] : [(), ('c',), ('b',), ('b', 'c'), ('a',), ('a', 'c'), ('a', 'b'), ('a', 'b', 'c')]\n"
     ]
    }
   ],
   "source": [
    "#Create a recursive Python function to generate all possible combinations of a list of elements.\n",
    "\n",
    "def combinations(elements):\n",
    "    # Base case: if the list is empty, return an empty list containing an empty tuple\n",
    "    if not elements:\n",
    "        return [()]\n",
    "\n",
    "    # Recursive case: generate combinations by selecting the first element and combining it with\n",
    "    # each combination of the rest of the elements\n",
    "    first = elements[0]\n",
    "    rest = elements[1:]\n",
    "    combinations_without_first = combinations(rest)\n",
    "    result = combinations_without_first[:]\n",
    "    for combo in combinations_without_first:\n",
    "        result.append((first,) + combo)\n",
    "\n",
    "    return result\n",
    "\n",
    "# Test the function\n",
    "elements = ['a', 'b', 'c']\n",
    "result = combinations(elements)\n",
    "print(\"Combinations of\", elements, \":\", result)"
   ]
  },
  {
   "cell_type": "code",
   "execution_count": 94,
   "id": "19cdbf2f-7dca-40d5-a1ac-46e3ff814ebc",
   "metadata": {},
   "outputs": [],
   "source": [
    "#Basics of Functions:"
   ]
  },
  {
   "cell_type": "code",
   "execution_count": 95,
   "id": "d4ae4c96-f4fd-42c8-b9d3-720062ede301",
   "metadata": {},
   "outputs": [
    {
     "data": {
      "text/plain": [
       "'In Python, a function is a block of reusable code that performs a specific task. Functions provide a way to modularize code by encapsulating a sequence of statements into a named block. They can take input parameters, perform operations, and optionally return a result.\\n\\nFunctions are used for several reasons:\\n\\nModularity: Functions allow you to break down a large program into smaller, more manageable pieces. Each function can encapsulate a specific functionality, making the code easier to understand, debug, and maintain. By organizing code into functions, you can reuse the same logic in multiple parts of your program without duplicating code.\\n\\nAbstraction: Functions provide a level of abstraction, allowing you to focus on what a piece of code does rather than how it does it. Once a function is defined, you can use it without needing to understand its implementation details. This simplifies the development process and improves code readability.\\n\\nCode Reusability: Functions promote code reusability by allowing you to define common tasks once and reuse them whenever needed. Instead of rewriting the same code multiple times, you can call the function with different input parameters to achieve the desired outcome.\\n\\nEncapsulation: Functions encapsulate a set of instructions, variables, and data within a single unit. This helps to prevent naming conflicts and maintain a clean namespace. It also allows you to hide implementation details and expose only the necessary interface to the rest of the program.\\n\\nTesting and Debugging: Functions make it easier to test and debug code because you can isolate specific functionalities and test them independently. By writing small, focused functions, you can more easily identify and fix errors.\\n\\nOverall, functions are a fundamental concept in Python programming (and programming in general) that enables you to write modular, reusable, and maintainable code. They play a crucial role in structuring programs and promoting good software engineering practices.'"
      ]
     },
     "execution_count": 95,
     "metadata": {},
     "output_type": "execute_result"
    }
   ],
   "source": [
    "#What is a function in Python, and why is it used?\n",
    "\n",
    "'''In Python, a function is a block of reusable code that performs a specific task. Functions provide a way to modularize code by encapsulating a sequence of statements into a named block. They can take input parameters, perform operations, and optionally return a result.\n",
    "\n",
    "Functions are used for several reasons:\n",
    "\n",
    "Modularity: Functions allow you to break down a large program into smaller, more manageable pieces. Each function can encapsulate a specific functionality, making the code easier to understand, debug, and maintain. By organizing code into functions, you can reuse the same logic in multiple parts of your program without duplicating code.\n",
    "\n",
    "Abstraction: Functions provide a level of abstraction, allowing you to focus on what a piece of code does rather than how it does it. Once a function is defined, you can use it without needing to understand its implementation details. This simplifies the development process and improves code readability.\n",
    "\n",
    "Code Reusability: Functions promote code reusability by allowing you to define common tasks once and reuse them whenever needed. Instead of rewriting the same code multiple times, you can call the function with different input parameters to achieve the desired outcome.\n",
    "\n",
    "Encapsulation: Functions encapsulate a set of instructions, variables, and data within a single unit. This helps to prevent naming conflicts and maintain a clean namespace. It also allows you to hide implementation details and expose only the necessary interface to the rest of the program.\n",
    "\n",
    "Testing and Debugging: Functions make it easier to test and debug code because you can isolate specific functionalities and test them independently. By writing small, focused functions, you can more easily identify and fix errors.\n",
    "\n",
    "Overall, functions are a fundamental concept in Python programming (and programming in general) that enables you to write modular, reusable, and maintainable code. They play a crucial role in structuring programs and promoting good software engineering practices.'''"
   ]
  },
  {
   "cell_type": "code",
   "execution_count": 96,
   "id": "18100f48-155b-4af0-a359-688411409822",
   "metadata": {},
   "outputs": [
    {
     "name": "stdout",
     "output_type": "stream",
     "text": [
      "Square of 5 is: 25\n"
     ]
    }
   ],
   "source": [
    "#How do you define a function in Python? Provide an example.\n",
    "\n",
    "def function_name(parameters):\n",
    "    \"\"\"Optional docstring describing the function.\"\"\"\n",
    "    # Function body\n",
    "    # Statements\n",
    "    return value  # Optional return statement\n",
    "\n",
    "#Here's an example of defining a simple function in Python that calculates the square of a number:\n",
    "\n",
    "def square(x):\n",
    "    \"\"\"Calculate the square of a number.\"\"\"\n",
    "    return x ** 2\n",
    "\n",
    "# Call the function\n",
    "result = square(5)\n",
    "print(\"Square of 5 is:\", result)"
   ]
  },
  {
   "cell_type": "code",
   "execution_count": 98,
   "id": "9d6c7b19-2507-4e71-aab2-e2d060cc256f",
   "metadata": {},
   "outputs": [
    {
     "name": "stdout",
     "output_type": "stream",
     "text": [
      "Hello, Alice\n"
     ]
    }
   ],
   "source": [
    "#Explain the difference between a function definition and a function call.\n",
    "\n",
    "def greet(name):\n",
    "    \"\"\"Function definition\"\"\"\n",
    "    print(\"Hello,\", name)\n",
    "    \n",
    "greet(\"Alice\")  # Function call"
   ]
  },
  {
   "cell_type": "code",
   "execution_count": 99,
   "id": "93203d44-668a-47b9-8964-2bfb9addd4ba",
   "metadata": {},
   "outputs": [
    {
     "name": "stdout",
     "output_type": "stream",
     "text": [
      "The sum of 5 and 7 is: 12\n"
     ]
    }
   ],
   "source": [
    "#Write a Python program that defines a function to calculate the sum of two numbers and then calls the function.\n",
    "\n",
    "def calculate_sum(a, b):\n",
    "    \"\"\"Function to calculate the sum of two numbers.\"\"\"\n",
    "    return a + b\n",
    "\n",
    "# Call the function\n",
    "num1 = 5\n",
    "num2 = 7\n",
    "result = calculate_sum(num1, num2)\n",
    "\n",
    "# Print the result\n",
    "print(\"The sum of\", num1, \"and\", num2, \"is:\", result)"
   ]
  },
  {
   "cell_type": "code",
   "execution_count": 100,
   "id": "9ab6ddd8-4d7a-4d1a-8144-7354d70d27f9",
   "metadata": {},
   "outputs": [],
   "source": [
    "#What is a function signature, and what information does it typically include?\n",
    "\n",
    "'''A function signature, also known as a function prototype or function declaration, describes the interface of a function, including its name, parameters, and return type. It provides a high-level overview of the function's purpose and usage without including the implementation details.\n",
    "\n",
    "A function signature typically includes the following information:\n",
    "\n",
    "Function Name: This is the name of the function, which uniquely identifies it within the scope of the program.\n",
    "\n",
    "Parameters: These are the input values or arguments that the function accepts. Each parameter is specified by its data type and name. Functions may have zero or more parameters.\n",
    "\n",
    "Return Type: This specifies the data type of the value returned by the function after its execution. In languages like Python, where functions can return values of any data type (or None if no explicit return statement is present), the return type is often omitted from the function signature.\n",
    "\n",
    "Exceptional Cases: In some languages, the function signature may also include information about exceptions or errors that the function may throw or raise during its execution.\n",
    "\n",
    "Here's an example of a function signature:'''\n",
    "\n",
    "def calculate_sum(a: int, b: int) -> int:\n",
    "    \"\"\"Function to calculate the sum of two integers.\"\"\"\n",
    "    ..."
   ]
  },
  {
   "cell_type": "code",
   "execution_count": 101,
   "id": "42ff4f03-9dcf-48a3-bee1-69d57b6946d1",
   "metadata": {},
   "outputs": [
    {
     "name": "stdout",
     "output_type": "stream",
     "text": [
      "The product of 5 and 7 is: 35\n"
     ]
    }
   ],
   "source": [
    "#Create a Python function that takes two arguments and returns their product.\n",
    "\n",
    "def calculate_product(a, b):\n",
    "    \"\"\"Function to calculate the product of two numbers.\"\"\"\n",
    "    return a * b\n",
    "\n",
    "# Test the function\n",
    "num1 = 5\n",
    "num2 = 7\n",
    "result = calculate_product(num1, num2)\n",
    "print(\"The product of\", num1, \"and\", num2, \"is:\", result)"
   ]
  },
  {
   "cell_type": "code",
   "execution_count": 102,
   "id": "bf91f39e-b47a-4468-ac3f-e730ff133987",
   "metadata": {},
   "outputs": [],
   "source": [
    "#Function Parameters and Arguments:"
   ]
  },
  {
   "cell_type": "code",
   "execution_count": 103,
   "id": "6716b46d-b542-44bb-9fbd-1ca1f509b811",
   "metadata": {},
   "outputs": [
    {
     "name": "stdout",
     "output_type": "stream",
     "text": [
      "Hello, Alice\n"
     ]
    }
   ],
   "source": [
    "#Explain the concepts of formal parameters and actual arguments in Python functions.\n",
    "\n",
    "'''Formal Parameters:\n",
    "\n",
    "Formal parameters are placeholders defined in the function definition that represent the values passed to the function when it is called.\n",
    "They are also known as parameters or function parameters.\n",
    "Formal parameters are listed within the parentheses in the function definition.\n",
    "These parameters serve as variables within the function's scope and are used to receive and process the values passed to the function.\n",
    "Formal parameters are like variables that are initialized with the values passed as arguments when the function is called.\n",
    "Formal parameters provide a way for functions to receive input data from the caller and perform operations on it.'''\n",
    "\n",
    "def greet(name):\n",
    "    \"\"\"Function to greet a person by name.\"\"\"\n",
    "    print(\"Hello,\", name)\n",
    "\n",
    "'''Actual Arguments:\n",
    "\n",
    "Actual arguments are the values provided by the caller when invoking or calling the function.\n",
    "They are also known as arguments or function arguments.\n",
    "Actual arguments are the values that are passed to the function when it is called, and they correspond to the formal parameters defined in the function definition.\n",
    "Actual arguments are listed within the parentheses following the function name during the function call.\n",
    "They provide the data that the function will operate on.'''\n",
    "\n",
    "greet(\"Alice\")"
   ]
  },
  {
   "cell_type": "code",
   "execution_count": 104,
   "id": "127ade25-1276-4218-b87f-e4992f32b38d",
   "metadata": {},
   "outputs": [
    {
     "name": "stdout",
     "output_type": "stream",
     "text": [
      "Hello, World\n",
      "Hello, Alice\n"
     ]
    }
   ],
   "source": [
    "#Write a Python program that defines a function with default argument values.\n",
    "\n",
    "def greet(name=\"World\"):\n",
    "    \"\"\"Function to greet a person by name.\"\"\"\n",
    "    print(\"Hello,\", name)\n",
    "\n",
    "# Call the function with default argument\n",
    "greet()\n",
    "\n",
    "# Call the function with a custom argument\n",
    "greet(\"Alice\")"
   ]
  },
  {
   "cell_type": "code",
   "execution_count": 105,
   "id": "46fbed21-586d-4396-b076-a34c1474d882",
   "metadata": {},
   "outputs": [
    {
     "name": "stdout",
     "output_type": "stream",
     "text": [
      "Hello, Alice! How are you?\n"
     ]
    }
   ],
   "source": [
    "#How do you use keyword arguments in Python function calls? Provide an example.\n",
    "\n",
    "def greet(name, message):\n",
    "    \"\"\"Function to greet a person with a custom message.\"\"\"\n",
    "    print(\"Hello,\", name + \"!\", message)\n",
    "\n",
    "# Call the function using keyword arguments\n",
    "greet(name=\"Alice\", message=\"How are you?\")"
   ]
  },
  {
   "cell_type": "code",
   "execution_count": 106,
   "id": "8d9d6ba1-4538-463b-aaa0-0233994186ad",
   "metadata": {},
   "outputs": [
    {
     "name": "stdout",
     "output_type": "stream",
     "text": [
      "Sum of numbers: 15\n",
      "Sum of numbers: 60\n"
     ]
    }
   ],
   "source": [
    "#Create a Python function that accepts a variable number of arguments and calculates their sum.\n",
    "\n",
    "def calculate_sum(*args):\n",
    "    \"\"\"Function to calculate the sum of variable number of arguments.\"\"\"\n",
    "    total = 0\n",
    "    for num in args:\n",
    "        total += num\n",
    "    return total\n",
    "\n",
    "# Test the function\n",
    "result1 = calculate_sum(1, 2, 3, 4, 5)\n",
    "print(\"Sum of numbers:\", result1)\n",
    "\n",
    "result2 = calculate_sum(10, 20, 30)\n",
    "print(\"Sum of numbers:\", result2)"
   ]
  },
  {
   "cell_type": "code",
   "execution_count": 107,
   "id": "90b18b38-e59d-499a-9bf7-37933f3e5ded",
   "metadata": {},
   "outputs": [
    {
     "name": "stdout",
     "output_type": "stream",
     "text": [
      "Positional arguments (*args): (1, 2, 3)\n",
      "Keyword arguments (**kwargs): {'name': 'Alice', 'age': 30}\n"
     ]
    }
   ],
   "source": [
    "#What is the purpose of the `*args` and `**kwargs` syntax in function parameter lists?\n",
    "\n",
    "def example_function(*args, **kwargs):\n",
    "    print(\"Positional arguments (*args):\", args)\n",
    "    print(\"Keyword arguments (**kwargs):\", kwargs)\n",
    "\n",
    "# Call the function with different arguments\n",
    "example_function(1, 2, 3, name=\"Alice\", age=30)"
   ]
  },
  {
   "cell_type": "code",
   "execution_count": 108,
   "id": "a245f4f2-8306-47ed-be9a-ca658989216d",
   "metadata": {},
   "outputs": [],
   "source": [
    "#Return Values and Scoping:"
   ]
  },
  {
   "cell_type": "code",
   "execution_count": 112,
   "id": "e42b7d82-446c-452e-adc7-e1ecf09816a3",
   "metadata": {},
   "outputs": [
    {
     "name": "stdout",
     "output_type": "stream",
     "text": [
      "Result of addition: 8\n",
      "Quotient: 3\n",
      "Remainder: 2\n",
      "Hello, Alice\n",
      "Is the number positive? False\n"
     ]
    }
   ],
   "source": [
    "#Describe the role of the `return` statement in Python functions and provide examples.\n",
    "\n",
    "#Returning a Single Value:\n",
    "def add(a, b):\n",
    "    \"\"\"Function to add two numbers.\"\"\"\n",
    "    return a + b\n",
    "\n",
    "result = add(3, 5)\n",
    "print(\"Result of addition:\", result)  # Output: 8\n",
    "\n",
    "#Returning Multiple Values (as a Tuple):\n",
    "def divide_and_remainder(dividend, divisor):\n",
    "    \"\"\"Function to divide two numbers and return quotient and remainder.\"\"\"\n",
    "    quotient = dividend // divisor\n",
    "    remainder = dividend % divisor\n",
    "    return quotient, remainder\n",
    "\n",
    "quotient, remainder = divide_and_remainder(17, 5)\n",
    "print(\"Quotient:\", quotient)  # Output: 3\n",
    "print(\"Remainder:\", remainder)  # Output: 2\n",
    "\n",
    "#Returning None (Implicitly or Explicitly):\n",
    "def greet(name):\n",
    "    \"\"\"Function to greet a person by name.\"\"\"\n",
    "    if name:\n",
    "        return \"Hello, \" + name\n",
    "    else:\n",
    "        return None\n",
    "\n",
    "message = greet(\"Alice\")\n",
    "print(message)  # Output: Hello, Alice\n",
    "\n",
    "#Exiting the Function Early:\n",
    "def is_positive(num):\n",
    "    \"\"\"Function to check if a number is positive.\"\"\"\n",
    "    if num > 0:\n",
    "        return True\n",
    "    else:\n",
    "        return False  # This line is unnecessary, as `False` is the default return value\n",
    "\n",
    "result = is_positive(-5)\n",
    "print(\"Is the number positive?\", result)  # Output: False"
   ]
  },
  {
   "cell_type": "code",
   "execution_count": 114,
   "id": "3336e670-df31-412f-8900-25bda9c4ae1f",
   "metadata": {},
   "outputs": [
    {
     "name": "stdout",
     "output_type": "stream",
     "text": [
      "Inside function: 10\n",
      "Inside function: 20\n",
      "Outside function: 30\n"
     ]
    }
   ],
   "source": [
    "#Explain the concept of variable scope in Python, including local and global variables.\n",
    "\n",
    "#Local Variables:\n",
    "def example_function():\n",
    "    x = 10  # Local variable\n",
    "    print(\"Inside function:\", x)\n",
    "\n",
    "example_function()\n",
    "# print(x)  # This line would raise a NameError because `x` is not defined outside the function\n",
    "\n",
    "#Global Variables:\n",
    "y = 20  # Global variable\n",
    "\n",
    "def example_function():\n",
    "    global y  # Declare `y` as a global variable inside the function\n",
    "    print(\"Inside function:\", y)\n",
    "    y = 30  # Modify the global variable `y`\n",
    "\n",
    "example_function()\n",
    "print(\"Outside function:\", y)  # Output: 30"
   ]
  },
  {
   "cell_type": "code",
   "execution_count": 115,
   "id": "40237ed3-f24f-448d-87e9-c3c2d1bf1680",
   "metadata": {},
   "outputs": [
    {
     "name": "stdout",
     "output_type": "stream",
     "text": [
      "Global variable before modification: 10\n",
      "Global variable after modification: 20\n",
      "Global variable inside function: 20\n"
     ]
    }
   ],
   "source": [
    "#Write a Python program that demonstrates the use of global variables within functions.\n",
    "\n",
    "# Define a global variable\n",
    "global_variable = 10\n",
    "\n",
    "def modify_global():\n",
    "    \"\"\"Function to modify the global variable.\"\"\"\n",
    "    global global_variable  # Use the `global` keyword to indicate that `global_variable` is a global variable\n",
    "    global_variable = 20     # Modify the global variable inside the function\n",
    "\n",
    "def print_global():\n",
    "    \"\"\"Function to print the global variable.\"\"\"\n",
    "    print(\"Global variable inside function:\", global_variable)\n",
    "\n",
    "# Print the global variable before modification\n",
    "print(\"Global variable before modification:\", global_variable)\n",
    "\n",
    "# Call the function to modify the global variable\n",
    "modify_global()\n",
    "\n",
    "# Print the global variable after modification\n",
    "print(\"Global variable after modification:\", global_variable)\n",
    "\n",
    "# Call the function to print the global variable\n",
    "print_global()"
   ]
  },
  {
   "cell_type": "code",
   "execution_count": 116,
   "id": "d00db4fb-757a-4d2c-adfe-d63198b7ab36",
   "metadata": {},
   "outputs": [
    {
     "name": "stdout",
     "output_type": "stream",
     "text": [
      "Factorial of 5 is: 120\n"
     ]
    }
   ],
   "source": [
    "#Create a Python function that calculates the factorial of a number and returns it.\n",
    "\n",
    "def factorial(n):\n",
    "    \"\"\"Function to calculate the factorial of a number.\"\"\"\n",
    "    if n < 0:\n",
    "        return \"Factorial is not defined for negative numbers\"\n",
    "    elif n == 0:\n",
    "        return 1\n",
    "    else:\n",
    "        result = 1\n",
    "        for i in range(1, n + 1):\n",
    "            result *= i\n",
    "        return result\n",
    "\n",
    "# Test the function\n",
    "number = 5\n",
    "print(\"Factorial of\", number, \"is:\", factorial(number))"
   ]
  },
  {
   "cell_type": "code",
   "execution_count": 119,
   "id": "56688b23-3137-481a-ba26-8a14a9bc3fbc",
   "metadata": {},
   "outputs": [
    {
     "name": "stdout",
     "output_type": "stream",
     "text": [
      "Global variable inside function: 10\n"
     ]
    }
   ],
   "source": [
    "#How can you access variables defined outside a function from within the function?\n",
    "\n",
    "# Define a variable outside the function\n",
    "global_variable = 10\n",
    "\n",
    "def access_global_variable():\n",
    "    \"\"\"Function to access a global variable.\"\"\"\n",
    "    print(\"Global variable inside function:\", global_variable)\n",
    "\n",
    "# Call the function to access the global variable\n",
    "access_global_variable()"
   ]
  },
  {
   "cell_type": "code",
   "execution_count": 120,
   "id": "8f908e08-5026-4027-a235-a7426e43aff2",
   "metadata": {},
   "outputs": [],
   "source": [
    "#Lambda Functions and Higher-Order Functions:"
   ]
  },
  {
   "cell_type": "code",
   "execution_count": 123,
   "id": "c991bc26-7c24-4208-b267-65f8f5480ced",
   "metadata": {},
   "outputs": [
    {
     "name": "stdout",
     "output_type": "stream",
     "text": [
      "25\n",
      "[1, 4, 9, 16, 25]\n",
      "[2, 4, 6, 8, 10]\n"
     ]
    }
   ],
   "source": [
    "#What are lambda functions in Python, and when are they typically used?\n",
    "\n",
    "'''Lambda functions are typically used in situations where you need a short, throwaway function \n",
    "for a specific task, and you don't want to define a separate named function using the def \n",
    "keyword. They are particularly useful when you need to pass a function as an argument to \n",
    "another function (e.g., in functional programming paradigms) or when you want \n",
    "to create small, concise code snippets.'''\n",
    "\n",
    "#lambda arguments: expression\n",
    "\n",
    "#Using a lambda function to square a number:\n",
    "square = lambda x: x ** 2\n",
    "print(square(5))  # Output: 25\n",
    "\n",
    "#Using a lambda function with map() to apply a function to all elements of a list:\n",
    "numbers = [1, 2, 3, 4, 5]\n",
    "squared_numbers = map(lambda x: x ** 2, numbers)\n",
    "print(list(squared_numbers))  # Output: [1, 4, 9, 16, 25]\n",
    "\n",
    "#Using a lambda function with filter() to filter even numbers from a list:\n",
    "numbers = [1, 2, 3, 4, 5, 6, 7, 8, 9, 10]\n",
    "even_numbers = filter(lambda x: x % 2 == 0, numbers)\n",
    "print(list(even_numbers))  # Output: [2, 4, 6, 8, 10]"
   ]
  },
  {
   "cell_type": "code",
   "execution_count": 124,
   "id": "7423b187-dd99-4b21-97c6-d49b20d09343",
   "metadata": {},
   "outputs": [
    {
     "name": "stdout",
     "output_type": "stream",
     "text": [
      "Sorted list of tuples based on the second element:\n",
      "(3, 'apple')\n",
      "(1, 'banana')\n",
      "(2, 'orange')\n",
      "(4, 'pear')\n"
     ]
    }
   ],
   "source": [
    "#Write a Python program that uses lambda functions to sort a list of tuples based on the second element.\n",
    "\n",
    "# Define a list of tuples\n",
    "data = [(3, 'apple'), (1, 'banana'), (2, 'orange'), (4, 'pear')]\n",
    "\n",
    "# Sort the list of tuples based on the second element (index 1)\n",
    "sorted_data = sorted(data, key=lambda x: x[1])\n",
    "\n",
    "# Print the sorted list\n",
    "print(\"Sorted list of tuples based on the second element:\")\n",
    "for item in sorted_data:\n",
    "    print(item)"
   ]
  },
  {
   "cell_type": "code",
   "execution_count": 125,
   "id": "733bcfa0-7f5b-47be-8199-b905a765619e",
   "metadata": {},
   "outputs": [
    {
     "name": "stdout",
     "output_type": "stream",
     "text": [
      "Result of addition: 8\n",
      "Result of subtraction: 6\n"
     ]
    }
   ],
   "source": [
    "#Explain the concept of higher-order functions in Python, and provide an example.\n",
    "\n",
    "def apply_operation(operation, x, y):\n",
    "    \"\"\"Function to apply a binary operation to two numbers.\"\"\"\n",
    "    return operation(x, y)\n",
    "\n",
    "def add(x, y):\n",
    "    \"\"\"Function to add two numbers.\"\"\"\n",
    "    return x + y\n",
    "\n",
    "def subtract(x, y):\n",
    "    \"\"\"Function to subtract two numbers.\"\"\"\n",
    "    return x - y\n",
    "\n",
    "# Use the higher-order function apply_operation with different operations\n",
    "result1 = apply_operation(add, 5, 3)\n",
    "print(\"Result of addition:\", result1)  # Output: 8\n",
    "\n",
    "result2 = apply_operation(subtract, 10, 4)\n",
    "print(\"Result of subtraction:\", result2)  # Output: 6"
   ]
  },
  {
   "cell_type": "code",
   "execution_count": 126,
   "id": "34494050-6a74-42f1-aa03-37109daa36b0",
   "metadata": {},
   "outputs": [
    {
     "name": "stdout",
     "output_type": "stream",
     "text": [
      "Result after applying function: [2, 4, 6, 8, 10]\n"
     ]
    }
   ],
   "source": [
    "'''Create a Python function that takes a list of numbers and a function as arguments\n",
    ", applying the function to each element in the list.'''\n",
    "\n",
    "def apply_function_to_list(numbers, func):\n",
    "    \"\"\"Apply a function to each element in a list of numbers.\"\"\"\n",
    "    return [func(num) for num in numbers]\n",
    "\n",
    "# Example usage:\n",
    "numbers = [1, 2, 3, 4, 5]\n",
    "\n",
    "# Define a function to double a number\n",
    "def double(x):\n",
    "    return x * 2\n",
    "\n",
    "# Apply the double function to each element in the list\n",
    "result = apply_function_to_list(numbers, double)\n",
    "print(\"Result after applying function:\", result)"
   ]
  },
  {
   "cell_type": "code",
   "execution_count": 127,
   "id": "b1f9e3c2-bc8c-46cd-9e3a-41449b560416",
   "metadata": {},
   "outputs": [],
   "source": [
    "#Built-in Functions:"
   ]
  },
  {
   "cell_type": "code",
   "execution_count": 128,
   "id": "4b2dbc63-0f7a-4a86-a5ba-b57d4e3a04e8",
   "metadata": {},
   "outputs": [
    {
     "name": "stdout",
     "output_type": "stream",
     "text": [
      "Length of the list: 5\n",
      "Maximum value: 30\n",
      "Minimum value: 5\n"
     ]
    }
   ],
   "source": [
    "#Describe the role of built-in functions like `len()`, `max()`, and `min()` in Python.\n",
    "\n",
    "'''len(): The len() function returns the length of an object, which can be a sequence \n",
    "(such as a string, list, tuple, or range) or a collection (such as a dictionary or set). \n",
    "It counts the number of elements in the object and returns the count as an integer.'''\n",
    "\n",
    "my_list = [10, 20, 30, 40, 50]\n",
    "length = len(my_list)\n",
    "print(\"Length of the list:\", length)  # Output: 5\n",
    "\n",
    "\n",
    "'''max(): The max() function returns the largest item from an iterable or the largest \n",
    "of two or more arguments. It can accept any iterable object (such as lists, \n",
    "tuples, sets, or strings) and returns the maximum value based on the natural ordering of the elements.'''\n",
    "\n",
    "my_numbers = [10, 20, 5, 30, 15]\n",
    "max_value = max(my_numbers)\n",
    "print(\"Maximum value:\", max_value)  # Output: 30\n",
    "\n",
    "'''min(): The min() function returns the smallest item from an iterable or the smallest \n",
    "of two or more arguments. Similar to max(), it accepts any iterable object and returns \n",
    "the minimum value based on the natural ordering of the elements.'''\n",
    "\n",
    "my_numbers = [10, 20, 5, 30, 15]\n",
    "min_value = min(my_numbers)\n",
    "print(\"Minimum value:\", min_value)  # Output: 5"
   ]
  },
  {
   "cell_type": "code",
   "execution_count": 129,
   "id": "23128f11-8fa2-4198-acda-e990089bb4d9",
   "metadata": {},
   "outputs": [
    {
     "name": "stdout",
     "output_type": "stream",
     "text": [
      "Original list: [1, 2, 3, 4, 5]\n",
      "List after applying the function: [2, 4, 6, 8, 10]\n"
     ]
    }
   ],
   "source": [
    "#Write a Python program that uses the `map()` function to apply a function to each element of a list.\n",
    "\n",
    "# Define a function to double a number\n",
    "def double(x):\n",
    "    return x * 2\n",
    "\n",
    "# Define a list of numbers\n",
    "numbers = [1, 2, 3, 4, 5]\n",
    "\n",
    "# Use the map() function to apply the double function to each element of the list\n",
    "result = map(double, numbers)\n",
    "\n",
    "# Convert the result to a list (map() returns an iterator in Python 3)\n",
    "result_list = list(result)\n",
    "\n",
    "# Print the result\n",
    "print(\"Original list:\", numbers)\n",
    "print(\"List after applying the function:\", result_list)"
   ]
  },
  {
   "cell_type": "code",
   "execution_count": 130,
   "id": "e9d6a652-f6b8-40e8-9ee9-f4381d7dafc5",
   "metadata": {},
   "outputs": [
    {
     "name": "stdout",
     "output_type": "stream",
     "text": [
      "Original list: [1, 2, 3, 4, 5, 6, 7, 8, 9, 10]\n",
      "Even numbers: [2, 4, 6, 8, 10]\n"
     ]
    }
   ],
   "source": [
    "#How does the `filter()` function work in Python, and when would you use it?\n",
    "\n",
    "# Define a function to check if a number is even\n",
    "def is_even(x):\n",
    "    return x % 2 == 0\n",
    "\n",
    "# Define a list of numbers\n",
    "numbers = [1, 2, 3, 4, 5, 6, 7, 8, 9, 10]\n",
    "\n",
    "# Use the filter() function to filter even numbers from the list\n",
    "even_numbers = filter(is_even, numbers)\n",
    "\n",
    "# Convert the result to a list (filter() returns an iterator in Python 3)\n",
    "even_numbers_list = list(even_numbers)\n",
    "\n",
    "# Print the result\n",
    "print(\"Original list:\", numbers)\n",
    "print(\"Even numbers:\", even_numbers_list)"
   ]
  },
  {
   "cell_type": "code",
   "execution_count": 131,
   "id": "90b8cbc4-79aa-4244-8031-d35dba1b7c8f",
   "metadata": {},
   "outputs": [
    {
     "name": "stdout",
     "output_type": "stream",
     "text": [
      "List: [1, 2, 3, 4, 5]\n",
      "Product of all elements: 120\n"
     ]
    }
   ],
   "source": [
    "#Create a Python program that uses the `reduce()` function to find the product of all elements in a list.\n",
    "\n",
    "from functools import reduce\n",
    "\n",
    "# Define a list of numbers\n",
    "numbers = [1, 2, 3, 4, 5]\n",
    "\n",
    "# Use the reduce() function to find the product of all elements in the list\n",
    "product = reduce(lambda x, y: x * y, numbers)\n",
    "\n",
    "# Print the result\n",
    "print(\"List:\", numbers)\n",
    "print(\"Product of all elements:\", product)"
   ]
  },
  {
   "cell_type": "code",
   "execution_count": 132,
   "id": "263e1c3e-0c53-4c11-b318-996a82435b13",
   "metadata": {},
   "outputs": [],
   "source": [
    "#Function Documentation and Best Practices:"
   ]
  },
  {
   "cell_type": "code",
   "execution_count": 136,
   "id": "0fc7ac69-f14c-41d4-b1e2-42d60d04d6fa",
   "metadata": {},
   "outputs": [
    {
     "name": "stdout",
     "output_type": "stream",
     "text": [
      "\n",
      "    Function to add two numbers.\n",
      "\n",
      "    Parameters:\n",
      "    a (int): The first number.\n",
      "    b (int): The second number.\n",
      "\n",
      "    Returns:\n",
      "    int: The sum of the two numbers.\n",
      "\n",
      "    return a + b\n",
      "    \n"
     ]
    }
   ],
   "source": [
    "#Explain the purpose of docstrings in Python functions and how to write them.\n",
    "\n",
    "\"\"\"Docstrings in Python are used to provide documentation or metadata about functions, classes, \n",
    "modules, or methods. They serve as a way to document the purpose, usage, \n",
    "and parameters of the function, making it easier for other developers (and sometimes yourself) \n",
    "to understand how to use the function and \n",
    "what it does without having to read through the code itself.\n",
    "\n",
    "Here's how to write docstrings in Python functions:\n",
    "\n",
    "Enclose the documentation within triple quotes : Docstrings are written as string literals enclosed within triple quotes, either single quotes.\n",
    "\n",
    "Write a descriptive explanation: Describe the purpose of the function, its behavior, and any other relevant information that would help someone understand how to use it.\n",
    "\n",
    "Document the parameters: If the function accepts parameters, document each parameter by specifying its name, type (if applicable), and purpose.\n",
    "\n",
    "Document the return value (if any): Describe what the function returns, including the type of the return value.\n",
    "\n",
    "Optional: You can also include additional sections in the docstring, such as examples, notes, or references.\n",
    "\n",
    "Here's an example of a function with a docstring:\"\"\"\n",
    "\n",
    "def add(a, b):\n",
    "    \"\"\"\n",
    "    Function to add two numbers.\n",
    "\n",
    "    Parameters:\n",
    "    a (int): The first number.\n",
    "    b (int): The second number.\n",
    "\n",
    "    Returns:\n",
    "    int: The sum of the two numbers.\n",
    "\n",
    "    return a + b\n",
    "    \"\"\"\n",
    "print(add.__doc__)"
   ]
  },
  {
   "cell_type": "code",
   "execution_count": 137,
   "id": "57165dac-df33-42fa-b7d8-89fe02c555cb",
   "metadata": {},
   "outputs": [
    {
     "data": {
      "text/plain": [
       "\"Here are some best practices for naming functions and variables in Python, along with naming conventions and guidelines:\\n\\nUse descriptive names: Choose names that accurately describe the purpose or intent of the function or variable. This makes the code more readable and self-explanatory.\\n\\nFollow naming conventions:\\n\\nUse lowercase for variable names: Variable names should be lowercase, with words separated by underscores (snake_case). For example: my_variable.\\nUse lowercase with words separated by underscores or mixed case for function names: Function names should follow the snake_case convention for consistency with variable names. Alternatively, you can use mixed case (camelCase) for function names, especially if you're following an existing convention in your codebase. For example: calculate_sum or calculateSum.\\nUse uppercase for constants: Constants that are meant to be immutable should be uppercase, with words separated by underscores (UPPER_CASE). For example: MAX_SIZE.\\nAvoid using single character names: Unless the variable or function has a very specific and well-known meaning, avoid using single character names like x, y, or z. Instead, use descriptive names that convey the purpose of the variable or function.\\nBe consistent: Follow the same naming conventions throughout your codebase to maintain consistency and readability.\\n\\nUse meaningful names: Choose names that provide context and meaning. Avoid cryptic or abbreviated names that may be unclear to other developers.\\n\\nAvoid using reserved keywords: Do not use Python's reserved keywords (such as if, for, while, class, etc.) as variable or function names, as this can lead to syntax errors.\\n\\nUse verbs for function names: Function names should typically start with a verb or action word that describes what the function does. For example: calculate, get, validate, etc.\\n\\nConsider the length of names: Aim for names that are neither too short nor too long. Short names may lack clarity, while overly long names can be cumbersome to read and type. Strive for a balance between descriptive and concise names.\\n\\nUse meaningful prefixes or suffixes: Consider adding prefixes or suffixes to variable or function names to indicate their type or purpose. For example, prefixing boolean variables with is_ or has_ can make their purpose clear (e.g., is_valid, has_error). Similarly, suffixing functions that return a boolean value with verbs like is or has can indicate their purpose (e.g., is_valid, has_error).\\n\\nBy following these best practices, you can create more readable, maintainable, and understandable code that is easier for both yourself and other developers to work with.\""
      ]
     },
     "execution_count": 137,
     "metadata": {},
     "output_type": "execute_result"
    }
   ],
   "source": [
    "'''Describe some best practices for naming functions and variables \n",
    "in Python, including naming conventions and guidelines.'''\n",
    "\n",
    "\n",
    "\"\"\"Here are some best practices for naming functions and variables in Python, along with naming conventions and guidelines:\n",
    "\n",
    "Use descriptive names: Choose names that accurately describe the purpose or intent of the function or variable. This makes the code more readable and self-explanatory.\n",
    "\n",
    "Follow naming conventions:\n",
    "\n",
    "Use lowercase for variable names: Variable names should be lowercase, with words separated by underscores (snake_case). For example: my_variable.\n",
    "Use lowercase with words separated by underscores or mixed case for function names: Function names should follow the snake_case convention for consistency with variable names. Alternatively, you can use mixed case (camelCase) for function names, especially if you're following an existing convention in your codebase. For example: calculate_sum or calculateSum.\n",
    "Use uppercase for constants: Constants that are meant to be immutable should be uppercase, with words separated by underscores (UPPER_CASE). For example: MAX_SIZE.\n",
    "Avoid using single character names: Unless the variable or function has a very specific and well-known meaning, avoid using single character names like x, y, or z. Instead, use descriptive names that convey the purpose of the variable or function.\n",
    "Be consistent: Follow the same naming conventions throughout your codebase to maintain consistency and readability.\n",
    "\n",
    "Use meaningful names: Choose names that provide context and meaning. Avoid cryptic or abbreviated names that may be unclear to other developers.\n",
    "\n",
    "Avoid using reserved keywords: Do not use Python's reserved keywords (such as if, for, while, class, etc.) as variable or function names, as this can lead to syntax errors.\n",
    "\n",
    "Use verbs for function names: Function names should typically start with a verb or action word that describes what the function does. For example: calculate, get, validate, etc.\n",
    "\n",
    "Consider the length of names: Aim for names that are neither too short nor too long. Short names may lack clarity, while overly long names can be cumbersome to read and type. Strive for a balance between descriptive and concise names.\n",
    "\n",
    "Use meaningful prefixes or suffixes: Consider adding prefixes or suffixes to variable or function names to indicate their type or purpose. For example, prefixing boolean variables with is_ or has_ can make their purpose clear (e.g., is_valid, has_error). Similarly, suffixing functions that return a boolean value with verbs like is or has can indicate their purpose (e.g., is_valid, has_error).\n",
    "\n",
    "By following these best practices, you can create more readable, maintainable, and understandable code that is easier for both yourself and other developers to work with.\"\"\"\n"
   ]
  },
  {
   "cell_type": "code",
   "execution_count": null,
   "id": "cd9bb3dc-0bf5-4fd2-b4a2-f006749a55fd",
   "metadata": {},
   "outputs": [],
   "source": []
  }
 ],
 "metadata": {
  "kernelspec": {
   "display_name": "Python 3 (ipykernel)",
   "language": "python",
   "name": "python3"
  },
  "language_info": {
   "codemirror_mode": {
    "name": "ipython",
    "version": 3
   },
   "file_extension": ".py",
   "mimetype": "text/x-python",
   "name": "python",
   "nbconvert_exporter": "python",
   "pygments_lexer": "ipython3",
   "version": "3.10.8"
  }
 },
 "nbformat": 4,
 "nbformat_minor": 5
}
